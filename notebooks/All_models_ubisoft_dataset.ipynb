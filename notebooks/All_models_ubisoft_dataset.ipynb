{
  "cells": [
    {
      "cell_type": "markdown",
      "source": [
        "# Import données"
      ],
      "metadata": {
        "id": "rijNgiS2OoLE"
      },
      "id": "rijNgiS2OoLE"
    },
    {
      "cell_type": "code",
      "execution_count": 140,
      "id": "ab6af6c6-99e9-48df-ab22-a90978efe1f8",
      "metadata": {
        "id": "ab6af6c6-99e9-48df-ab22-a90978efe1f8"
      },
      "outputs": [],
      "source": [
        "import pandas as pd\n",
        "import numpy as np"
      ]
    },
    {
      "cell_type": "code",
      "execution_count": 141,
      "id": "2c9156e8-b7e5-476f-b8fd-64bd143b7142",
      "metadata": {
        "id": "2c9156e8-b7e5-476f-b8fd-64bd143b7142"
      },
      "outputs": [],
      "source": [
        "df = pd.read_csv('dataset_social_technical_1d.csv')"
      ]
    },
    {
      "cell_type": "code",
      "execution_count": 142,
      "id": "58c7d82f-013c-4edb-b9be-cf9fe070631b",
      "metadata": {
        "colab": {
          "base_uri": "https://localhost:8080/",
          "height": 357
        },
        "id": "58c7d82f-013c-4edb-b9be-cf9fe070631b",
        "outputId": "a236df58-dd71-458a-f831-9082d81cc31a"
      },
      "outputs": [
        {
          "output_type": "execute_result",
          "data": {
            "text/plain": [
              "         date      close    volume     SMA_15  SMA_ratio   SMA15_Volume  \\\n",
              "0  2018-01-02  64.400002  219072.0  64.573334   0.994017  348265.266667   \n",
              "1  2018-01-03  66.199997  256706.0  64.484667   0.993662  329124.000000   \n",
              "2  2018-01-04  66.680000  306794.0  64.465334   0.990829  310316.666667   \n",
              "3  2018-01-05  67.379997  176037.0  64.615334   0.989152  300906.333333   \n",
              "4  2018-01-08  68.120003  271314.0  64.908667   0.987054  281487.000000   \n",
              "\n",
              "   SMA_Volume_Ratio  Stochastic_15  Stochastic_Ratio     RSI_15  RSI_ratio  \\\n",
              "0          0.555061      43.370749          1.145254  49.278354   0.817626   \n",
              "1          0.611814      49.213487          1.075724  42.185655   1.001608   \n",
              "2          0.691514      94.326116          1.055682  48.481671   1.291496   \n",
              "3          0.811558      81.718468          0.969574  64.115417   1.050823   \n",
              "4          0.872077      94.515485          0.931893  80.470877   0.936350   \n",
              "\n",
              "       MACD  price_pct_variation  title_vader_compound  title_roberta_neg  \\\n",
              "0  0.108905             0.031072               0.52645           0.840097   \n",
              "1  0.167948             2.763115               0.20095           0.505398   \n",
              "2 -0.179607             0.331028              -0.61240           0.824533   \n",
              "3 -0.474865             0.747608               0.22870           0.666439   \n",
              "4 -0.773145             1.671646               0.49390           0.043767   \n",
              "\n",
              "   title_roberta_neu  title_roberta_pos  \n",
              "0           0.150846           0.009058  \n",
              "1           0.476686           0.017916  \n",
              "2           0.169098           0.006369  \n",
              "3           0.313903           0.019658  \n",
              "4           0.919694           0.036539  "
            ],
            "text/html": [
              "\n",
              "  <div id=\"df-7dfef205-3972-40f5-b251-c9560d71d73d\">\n",
              "    <div class=\"colab-df-container\">\n",
              "      <div>\n",
              "<style scoped>\n",
              "    .dataframe tbody tr th:only-of-type {\n",
              "        vertical-align: middle;\n",
              "    }\n",
              "\n",
              "    .dataframe tbody tr th {\n",
              "        vertical-align: top;\n",
              "    }\n",
              "\n",
              "    .dataframe thead th {\n",
              "        text-align: right;\n",
              "    }\n",
              "</style>\n",
              "<table border=\"1\" class=\"dataframe\">\n",
              "  <thead>\n",
              "    <tr style=\"text-align: right;\">\n",
              "      <th></th>\n",
              "      <th>date</th>\n",
              "      <th>close</th>\n",
              "      <th>volume</th>\n",
              "      <th>SMA_15</th>\n",
              "      <th>SMA_ratio</th>\n",
              "      <th>SMA15_Volume</th>\n",
              "      <th>SMA_Volume_Ratio</th>\n",
              "      <th>Stochastic_15</th>\n",
              "      <th>Stochastic_Ratio</th>\n",
              "      <th>RSI_15</th>\n",
              "      <th>RSI_ratio</th>\n",
              "      <th>MACD</th>\n",
              "      <th>price_pct_variation</th>\n",
              "      <th>title_vader_compound</th>\n",
              "      <th>title_roberta_neg</th>\n",
              "      <th>title_roberta_neu</th>\n",
              "      <th>title_roberta_pos</th>\n",
              "    </tr>\n",
              "  </thead>\n",
              "  <tbody>\n",
              "    <tr>\n",
              "      <th>0</th>\n",
              "      <td>2018-01-02</td>\n",
              "      <td>64.400002</td>\n",
              "      <td>219072.0</td>\n",
              "      <td>64.573334</td>\n",
              "      <td>0.994017</td>\n",
              "      <td>348265.266667</td>\n",
              "      <td>0.555061</td>\n",
              "      <td>43.370749</td>\n",
              "      <td>1.145254</td>\n",
              "      <td>49.278354</td>\n",
              "      <td>0.817626</td>\n",
              "      <td>0.108905</td>\n",
              "      <td>0.031072</td>\n",
              "      <td>0.52645</td>\n",
              "      <td>0.840097</td>\n",
              "      <td>0.150846</td>\n",
              "      <td>0.009058</td>\n",
              "    </tr>\n",
              "    <tr>\n",
              "      <th>1</th>\n",
              "      <td>2018-01-03</td>\n",
              "      <td>66.199997</td>\n",
              "      <td>256706.0</td>\n",
              "      <td>64.484667</td>\n",
              "      <td>0.993662</td>\n",
              "      <td>329124.000000</td>\n",
              "      <td>0.611814</td>\n",
              "      <td>49.213487</td>\n",
              "      <td>1.075724</td>\n",
              "      <td>42.185655</td>\n",
              "      <td>1.001608</td>\n",
              "      <td>0.167948</td>\n",
              "      <td>2.763115</td>\n",
              "      <td>0.20095</td>\n",
              "      <td>0.505398</td>\n",
              "      <td>0.476686</td>\n",
              "      <td>0.017916</td>\n",
              "    </tr>\n",
              "    <tr>\n",
              "      <th>2</th>\n",
              "      <td>2018-01-04</td>\n",
              "      <td>66.680000</td>\n",
              "      <td>306794.0</td>\n",
              "      <td>64.465334</td>\n",
              "      <td>0.990829</td>\n",
              "      <td>310316.666667</td>\n",
              "      <td>0.691514</td>\n",
              "      <td>94.326116</td>\n",
              "      <td>1.055682</td>\n",
              "      <td>48.481671</td>\n",
              "      <td>1.291496</td>\n",
              "      <td>-0.179607</td>\n",
              "      <td>0.331028</td>\n",
              "      <td>-0.61240</td>\n",
              "      <td>0.824533</td>\n",
              "      <td>0.169098</td>\n",
              "      <td>0.006369</td>\n",
              "    </tr>\n",
              "    <tr>\n",
              "      <th>3</th>\n",
              "      <td>2018-01-05</td>\n",
              "      <td>67.379997</td>\n",
              "      <td>176037.0</td>\n",
              "      <td>64.615334</td>\n",
              "      <td>0.989152</td>\n",
              "      <td>300906.333333</td>\n",
              "      <td>0.811558</td>\n",
              "      <td>81.718468</td>\n",
              "      <td>0.969574</td>\n",
              "      <td>64.115417</td>\n",
              "      <td>1.050823</td>\n",
              "      <td>-0.474865</td>\n",
              "      <td>0.747608</td>\n",
              "      <td>0.22870</td>\n",
              "      <td>0.666439</td>\n",
              "      <td>0.313903</td>\n",
              "      <td>0.019658</td>\n",
              "    </tr>\n",
              "    <tr>\n",
              "      <th>4</th>\n",
              "      <td>2018-01-08</td>\n",
              "      <td>68.120003</td>\n",
              "      <td>271314.0</td>\n",
              "      <td>64.908667</td>\n",
              "      <td>0.987054</td>\n",
              "      <td>281487.000000</td>\n",
              "      <td>0.872077</td>\n",
              "      <td>94.515485</td>\n",
              "      <td>0.931893</td>\n",
              "      <td>80.470877</td>\n",
              "      <td>0.936350</td>\n",
              "      <td>-0.773145</td>\n",
              "      <td>1.671646</td>\n",
              "      <td>0.49390</td>\n",
              "      <td>0.043767</td>\n",
              "      <td>0.919694</td>\n",
              "      <td>0.036539</td>\n",
              "    </tr>\n",
              "  </tbody>\n",
              "</table>\n",
              "</div>\n",
              "      <button class=\"colab-df-convert\" onclick=\"convertToInteractive('df-7dfef205-3972-40f5-b251-c9560d71d73d')\"\n",
              "              title=\"Convert this dataframe to an interactive table.\"\n",
              "              style=\"display:none;\">\n",
              "        \n",
              "  <svg xmlns=\"http://www.w3.org/2000/svg\" height=\"24px\"viewBox=\"0 0 24 24\"\n",
              "       width=\"24px\">\n",
              "    <path d=\"M0 0h24v24H0V0z\" fill=\"none\"/>\n",
              "    <path d=\"M18.56 5.44l.94 2.06.94-2.06 2.06-.94-2.06-.94-.94-2.06-.94 2.06-2.06.94zm-11 1L8.5 8.5l.94-2.06 2.06-.94-2.06-.94L8.5 2.5l-.94 2.06-2.06.94zm10 10l.94 2.06.94-2.06 2.06-.94-2.06-.94-.94-2.06-.94 2.06-2.06.94z\"/><path d=\"M17.41 7.96l-1.37-1.37c-.4-.4-.92-.59-1.43-.59-.52 0-1.04.2-1.43.59L10.3 9.45l-7.72 7.72c-.78.78-.78 2.05 0 2.83L4 21.41c.39.39.9.59 1.41.59.51 0 1.02-.2 1.41-.59l7.78-7.78 2.81-2.81c.8-.78.8-2.07 0-2.86zM5.41 20L4 18.59l7.72-7.72 1.47 1.35L5.41 20z\"/>\n",
              "  </svg>\n",
              "      </button>\n",
              "      \n",
              "  <style>\n",
              "    .colab-df-container {\n",
              "      display:flex;\n",
              "      flex-wrap:wrap;\n",
              "      gap: 12px;\n",
              "    }\n",
              "\n",
              "    .colab-df-convert {\n",
              "      background-color: #E8F0FE;\n",
              "      border: none;\n",
              "      border-radius: 50%;\n",
              "      cursor: pointer;\n",
              "      display: none;\n",
              "      fill: #1967D2;\n",
              "      height: 32px;\n",
              "      padding: 0 0 0 0;\n",
              "      width: 32px;\n",
              "    }\n",
              "\n",
              "    .colab-df-convert:hover {\n",
              "      background-color: #E2EBFA;\n",
              "      box-shadow: 0px 1px 2px rgba(60, 64, 67, 0.3), 0px 1px 3px 1px rgba(60, 64, 67, 0.15);\n",
              "      fill: #174EA6;\n",
              "    }\n",
              "\n",
              "    [theme=dark] .colab-df-convert {\n",
              "      background-color: #3B4455;\n",
              "      fill: #D2E3FC;\n",
              "    }\n",
              "\n",
              "    [theme=dark] .colab-df-convert:hover {\n",
              "      background-color: #434B5C;\n",
              "      box-shadow: 0px 1px 3px 1px rgba(0, 0, 0, 0.15);\n",
              "      filter: drop-shadow(0px 1px 2px rgba(0, 0, 0, 0.3));\n",
              "      fill: #FFFFFF;\n",
              "    }\n",
              "  </style>\n",
              "\n",
              "      <script>\n",
              "        const buttonEl =\n",
              "          document.querySelector('#df-7dfef205-3972-40f5-b251-c9560d71d73d button.colab-df-convert');\n",
              "        buttonEl.style.display =\n",
              "          google.colab.kernel.accessAllowed ? 'block' : 'none';\n",
              "\n",
              "        async function convertToInteractive(key) {\n",
              "          const element = document.querySelector('#df-7dfef205-3972-40f5-b251-c9560d71d73d');\n",
              "          const dataTable =\n",
              "            await google.colab.kernel.invokeFunction('convertToInteractive',\n",
              "                                                     [key], {});\n",
              "          if (!dataTable) return;\n",
              "\n",
              "          const docLinkHtml = 'Like what you see? Visit the ' +\n",
              "            '<a target=\"_blank\" href=https://colab.research.google.com/notebooks/data_table.ipynb>data table notebook</a>'\n",
              "            + ' to learn more about interactive tables.';\n",
              "          element.innerHTML = '';\n",
              "          dataTable['output_type'] = 'display_data';\n",
              "          await google.colab.output.renderOutput(dataTable, element);\n",
              "          const docLink = document.createElement('div');\n",
              "          docLink.innerHTML = docLinkHtml;\n",
              "          element.appendChild(docLink);\n",
              "        }\n",
              "      </script>\n",
              "    </div>\n",
              "  </div>\n",
              "  "
            ]
          },
          "metadata": {},
          "execution_count": 142
        }
      ],
      "source": [
        "df.head()"
      ]
    },
    {
      "cell_type": "code",
      "execution_count": 142,
      "id": "08d021c6-53f3-4ca7-b546-501335a92efc",
      "metadata": {
        "id": "08d021c6-53f3-4ca7-b546-501335a92efc"
      },
      "outputs": [],
      "source": [
        ""
      ]
    },
    {
      "cell_type": "code",
      "execution_count": 143,
      "id": "455cacd0-be77-4634-b71e-3bea62d74462",
      "metadata": {
        "id": "455cacd0-be77-4634-b71e-3bea62d74462"
      },
      "outputs": [],
      "source": [
        "#features_list = df.loc[:, df.columns != 'date'].columns\n",
        "features_list = [#'SMA_15','Stochastic_15','RSI_15','MACD',\n",
        "                'SMA_ratio', 'Stochastic_Ratio', 'RSI_ratio',\n",
        "                #'SMA15_Volume', \n",
        "                'SMA_Volume_Ratio',\n",
        "                #'close',\n",
        "                #'title_vader_compound',\n",
        "                'title_roberta_neg','title_roberta_neu','title_roberta_pos'\n",
        "                ]"
      ]
    },
    {
      "cell_type": "code",
      "execution_count": 144,
      "id": "b66a01ab-0edc-4cbd-a43d-7357568b2e89",
      "metadata": {
        "id": "b66a01ab-0edc-4cbd-a43d-7357568b2e89"
      },
      "outputs": [],
      "source": [
        "target_variable = ['price_pct_variation']\n",
        "#target_variable = ['price_pct_variation_1']"
      ]
    },
    {
      "cell_type": "code",
      "source": [
        "print(features_list)\n",
        "print(target_variable)"
      ],
      "metadata": {
        "colab": {
          "base_uri": "https://localhost:8080/"
        },
        "id": "73Ahhq-u5sG1",
        "outputId": "6966650f-0257-4770-eb0f-51d2160e52b6"
      },
      "id": "73Ahhq-u5sG1",
      "execution_count": 145,
      "outputs": [
        {
          "output_type": "stream",
          "name": "stdout",
          "text": [
            "['SMA_ratio', 'Stochastic_Ratio', 'RSI_ratio', 'SMA_Volume_Ratio', 'title_roberta_neg', 'title_roberta_neu', 'title_roberta_pos']\n",
            "['price_pct_variation']\n"
          ]
        }
      ]
    },
    {
      "cell_type": "code",
      "execution_count": 146,
      "id": "1b9f33e1-87bd-47ef-bac1-7844597f446b",
      "metadata": {
        "id": "1b9f33e1-87bd-47ef-bac1-7844597f446b"
      },
      "outputs": [],
      "source": [
        "X = df.loc[:, features_list]\n",
        "y = df.loc[:, target_variable]"
      ]
    },
    {
      "cell_type": "code",
      "source": [
        ""
      ],
      "metadata": {
        "id": "PrrCSXa9O7yn"
      },
      "id": "PrrCSXa9O7yn",
      "execution_count": 146,
      "outputs": []
    },
    {
      "cell_type": "markdown",
      "source": [
        "# Split données"
      ],
      "metadata": {
        "id": "CsrNNMvqO8Ni"
      },
      "id": "CsrNNMvqO8Ni"
    },
    {
      "cell_type": "code",
      "execution_count": 147,
      "id": "694715a5-bf1b-4a0e-b83e-482865e62274",
      "metadata": {
        "id": "694715a5-bf1b-4a0e-b83e-482865e62274"
      },
      "outputs": [],
      "source": [
        "from sklearn.model_selection import train_test_split\n",
        "\n",
        "X_train, X_test, y_train, y_test = train_test_split(X, y, test_size = 0.2, random_state=0)"
      ]
    },
    {
      "cell_type": "code",
      "execution_count": 148,
      "id": "c13bc84d-0b10-4fc2-b30a-c0510eb4bccc",
      "metadata": {
        "colab": {
          "base_uri": "https://localhost:8080/",
          "height": 395
        },
        "id": "c13bc84d-0b10-4fc2-b30a-c0510eb4bccc",
        "outputId": "f78d6caf-0cd0-4ea2-9e70-a0cf57b479c0"
      },
      "outputs": [
        {
          "output_type": "display_data",
          "data": {
            "text/plain": [
              "     SMA_ratio  Stochastic_Ratio  RSI_ratio  SMA_Volume_Ratio  \\\n",
              "680   0.963740          1.112172   1.096312          0.809388   \n",
              "526   0.981906          1.186610   1.254286          1.428440   \n",
              "85    0.958739          1.061550   1.279707          0.790190   \n",
              "533   0.975835          0.831140   0.766483          1.038957   \n",
              "75    0.951612          1.072484   1.301282          0.812644   \n",
              "\n",
              "     title_roberta_neg  title_roberta_neu  title_roberta_pos  \n",
              "680           0.317700           0.633896           0.048404  \n",
              "526           0.223974           0.643639           0.132387  \n",
              "85            0.003638           0.388107           0.608256  \n",
              "533           0.197460           0.601910           0.200630  \n",
              "75            0.249670           0.662126           0.088204  "
            ],
            "text/html": [
              "\n",
              "  <div id=\"df-0acb01ec-b8bb-4ebb-a1aa-b31cb3473f09\">\n",
              "    <div class=\"colab-df-container\">\n",
              "      <div>\n",
              "<style scoped>\n",
              "    .dataframe tbody tr th:only-of-type {\n",
              "        vertical-align: middle;\n",
              "    }\n",
              "\n",
              "    .dataframe tbody tr th {\n",
              "        vertical-align: top;\n",
              "    }\n",
              "\n",
              "    .dataframe thead th {\n",
              "        text-align: right;\n",
              "    }\n",
              "</style>\n",
              "<table border=\"1\" class=\"dataframe\">\n",
              "  <thead>\n",
              "    <tr style=\"text-align: right;\">\n",
              "      <th></th>\n",
              "      <th>SMA_ratio</th>\n",
              "      <th>Stochastic_Ratio</th>\n",
              "      <th>RSI_ratio</th>\n",
              "      <th>SMA_Volume_Ratio</th>\n",
              "      <th>title_roberta_neg</th>\n",
              "      <th>title_roberta_neu</th>\n",
              "      <th>title_roberta_pos</th>\n",
              "    </tr>\n",
              "  </thead>\n",
              "  <tbody>\n",
              "    <tr>\n",
              "      <th>680</th>\n",
              "      <td>0.963740</td>\n",
              "      <td>1.112172</td>\n",
              "      <td>1.096312</td>\n",
              "      <td>0.809388</td>\n",
              "      <td>0.317700</td>\n",
              "      <td>0.633896</td>\n",
              "      <td>0.048404</td>\n",
              "    </tr>\n",
              "    <tr>\n",
              "      <th>526</th>\n",
              "      <td>0.981906</td>\n",
              "      <td>1.186610</td>\n",
              "      <td>1.254286</td>\n",
              "      <td>1.428440</td>\n",
              "      <td>0.223974</td>\n",
              "      <td>0.643639</td>\n",
              "      <td>0.132387</td>\n",
              "    </tr>\n",
              "    <tr>\n",
              "      <th>85</th>\n",
              "      <td>0.958739</td>\n",
              "      <td>1.061550</td>\n",
              "      <td>1.279707</td>\n",
              "      <td>0.790190</td>\n",
              "      <td>0.003638</td>\n",
              "      <td>0.388107</td>\n",
              "      <td>0.608256</td>\n",
              "    </tr>\n",
              "    <tr>\n",
              "      <th>533</th>\n",
              "      <td>0.975835</td>\n",
              "      <td>0.831140</td>\n",
              "      <td>0.766483</td>\n",
              "      <td>1.038957</td>\n",
              "      <td>0.197460</td>\n",
              "      <td>0.601910</td>\n",
              "      <td>0.200630</td>\n",
              "    </tr>\n",
              "    <tr>\n",
              "      <th>75</th>\n",
              "      <td>0.951612</td>\n",
              "      <td>1.072484</td>\n",
              "      <td>1.301282</td>\n",
              "      <td>0.812644</td>\n",
              "      <td>0.249670</td>\n",
              "      <td>0.662126</td>\n",
              "      <td>0.088204</td>\n",
              "    </tr>\n",
              "  </tbody>\n",
              "</table>\n",
              "</div>\n",
              "      <button class=\"colab-df-convert\" onclick=\"convertToInteractive('df-0acb01ec-b8bb-4ebb-a1aa-b31cb3473f09')\"\n",
              "              title=\"Convert this dataframe to an interactive table.\"\n",
              "              style=\"display:none;\">\n",
              "        \n",
              "  <svg xmlns=\"http://www.w3.org/2000/svg\" height=\"24px\"viewBox=\"0 0 24 24\"\n",
              "       width=\"24px\">\n",
              "    <path d=\"M0 0h24v24H0V0z\" fill=\"none\"/>\n",
              "    <path d=\"M18.56 5.44l.94 2.06.94-2.06 2.06-.94-2.06-.94-.94-2.06-.94 2.06-2.06.94zm-11 1L8.5 8.5l.94-2.06 2.06-.94-2.06-.94L8.5 2.5l-.94 2.06-2.06.94zm10 10l.94 2.06.94-2.06 2.06-.94-2.06-.94-.94-2.06-.94 2.06-2.06.94z\"/><path d=\"M17.41 7.96l-1.37-1.37c-.4-.4-.92-.59-1.43-.59-.52 0-1.04.2-1.43.59L10.3 9.45l-7.72 7.72c-.78.78-.78 2.05 0 2.83L4 21.41c.39.39.9.59 1.41.59.51 0 1.02-.2 1.41-.59l7.78-7.78 2.81-2.81c.8-.78.8-2.07 0-2.86zM5.41 20L4 18.59l7.72-7.72 1.47 1.35L5.41 20z\"/>\n",
              "  </svg>\n",
              "      </button>\n",
              "      \n",
              "  <style>\n",
              "    .colab-df-container {\n",
              "      display:flex;\n",
              "      flex-wrap:wrap;\n",
              "      gap: 12px;\n",
              "    }\n",
              "\n",
              "    .colab-df-convert {\n",
              "      background-color: #E8F0FE;\n",
              "      border: none;\n",
              "      border-radius: 50%;\n",
              "      cursor: pointer;\n",
              "      display: none;\n",
              "      fill: #1967D2;\n",
              "      height: 32px;\n",
              "      padding: 0 0 0 0;\n",
              "      width: 32px;\n",
              "    }\n",
              "\n",
              "    .colab-df-convert:hover {\n",
              "      background-color: #E2EBFA;\n",
              "      box-shadow: 0px 1px 2px rgba(60, 64, 67, 0.3), 0px 1px 3px 1px rgba(60, 64, 67, 0.15);\n",
              "      fill: #174EA6;\n",
              "    }\n",
              "\n",
              "    [theme=dark] .colab-df-convert {\n",
              "      background-color: #3B4455;\n",
              "      fill: #D2E3FC;\n",
              "    }\n",
              "\n",
              "    [theme=dark] .colab-df-convert:hover {\n",
              "      background-color: #434B5C;\n",
              "      box-shadow: 0px 1px 3px 1px rgba(0, 0, 0, 0.15);\n",
              "      filter: drop-shadow(0px 1px 2px rgba(0, 0, 0, 0.3));\n",
              "      fill: #FFFFFF;\n",
              "    }\n",
              "  </style>\n",
              "\n",
              "      <script>\n",
              "        const buttonEl =\n",
              "          document.querySelector('#df-0acb01ec-b8bb-4ebb-a1aa-b31cb3473f09 button.colab-df-convert');\n",
              "        buttonEl.style.display =\n",
              "          google.colab.kernel.accessAllowed ? 'block' : 'none';\n",
              "\n",
              "        async function convertToInteractive(key) {\n",
              "          const element = document.querySelector('#df-0acb01ec-b8bb-4ebb-a1aa-b31cb3473f09');\n",
              "          const dataTable =\n",
              "            await google.colab.kernel.invokeFunction('convertToInteractive',\n",
              "                                                     [key], {});\n",
              "          if (!dataTable) return;\n",
              "\n",
              "          const docLinkHtml = 'Like what you see? Visit the ' +\n",
              "            '<a target=\"_blank\" href=https://colab.research.google.com/notebooks/data_table.ipynb>data table notebook</a>'\n",
              "            + ' to learn more about interactive tables.';\n",
              "          element.innerHTML = '';\n",
              "          dataTable['output_type'] = 'display_data';\n",
              "          await google.colab.output.renderOutput(dataTable, element);\n",
              "          const docLink = document.createElement('div');\n",
              "          docLink.innerHTML = docLinkHtml;\n",
              "          element.appendChild(docLink);\n",
              "        }\n",
              "      </script>\n",
              "    </div>\n",
              "  </div>\n",
              "  "
            ]
          },
          "metadata": {}
        },
        {
          "output_type": "display_data",
          "data": {
            "text/plain": [
              "     price_pct_variation\n",
              "680             1.221265\n",
              "526            -0.385263\n",
              "85              0.490996\n",
              "533            -1.435756\n",
              "75             -2.517623"
            ],
            "text/html": [
              "\n",
              "  <div id=\"df-8de7c7c9-7af1-4052-9a6f-363bfa0c8dd3\">\n",
              "    <div class=\"colab-df-container\">\n",
              "      <div>\n",
              "<style scoped>\n",
              "    .dataframe tbody tr th:only-of-type {\n",
              "        vertical-align: middle;\n",
              "    }\n",
              "\n",
              "    .dataframe tbody tr th {\n",
              "        vertical-align: top;\n",
              "    }\n",
              "\n",
              "    .dataframe thead th {\n",
              "        text-align: right;\n",
              "    }\n",
              "</style>\n",
              "<table border=\"1\" class=\"dataframe\">\n",
              "  <thead>\n",
              "    <tr style=\"text-align: right;\">\n",
              "      <th></th>\n",
              "      <th>price_pct_variation</th>\n",
              "    </tr>\n",
              "  </thead>\n",
              "  <tbody>\n",
              "    <tr>\n",
              "      <th>680</th>\n",
              "      <td>1.221265</td>\n",
              "    </tr>\n",
              "    <tr>\n",
              "      <th>526</th>\n",
              "      <td>-0.385263</td>\n",
              "    </tr>\n",
              "    <tr>\n",
              "      <th>85</th>\n",
              "      <td>0.490996</td>\n",
              "    </tr>\n",
              "    <tr>\n",
              "      <th>533</th>\n",
              "      <td>-1.435756</td>\n",
              "    </tr>\n",
              "    <tr>\n",
              "      <th>75</th>\n",
              "      <td>-2.517623</td>\n",
              "    </tr>\n",
              "  </tbody>\n",
              "</table>\n",
              "</div>\n",
              "      <button class=\"colab-df-convert\" onclick=\"convertToInteractive('df-8de7c7c9-7af1-4052-9a6f-363bfa0c8dd3')\"\n",
              "              title=\"Convert this dataframe to an interactive table.\"\n",
              "              style=\"display:none;\">\n",
              "        \n",
              "  <svg xmlns=\"http://www.w3.org/2000/svg\" height=\"24px\"viewBox=\"0 0 24 24\"\n",
              "       width=\"24px\">\n",
              "    <path d=\"M0 0h24v24H0V0z\" fill=\"none\"/>\n",
              "    <path d=\"M18.56 5.44l.94 2.06.94-2.06 2.06-.94-2.06-.94-.94-2.06-.94 2.06-2.06.94zm-11 1L8.5 8.5l.94-2.06 2.06-.94-2.06-.94L8.5 2.5l-.94 2.06-2.06.94zm10 10l.94 2.06.94-2.06 2.06-.94-2.06-.94-.94-2.06-.94 2.06-2.06.94z\"/><path d=\"M17.41 7.96l-1.37-1.37c-.4-.4-.92-.59-1.43-.59-.52 0-1.04.2-1.43.59L10.3 9.45l-7.72 7.72c-.78.78-.78 2.05 0 2.83L4 21.41c.39.39.9.59 1.41.59.51 0 1.02-.2 1.41-.59l7.78-7.78 2.81-2.81c.8-.78.8-2.07 0-2.86zM5.41 20L4 18.59l7.72-7.72 1.47 1.35L5.41 20z\"/>\n",
              "  </svg>\n",
              "      </button>\n",
              "      \n",
              "  <style>\n",
              "    .colab-df-container {\n",
              "      display:flex;\n",
              "      flex-wrap:wrap;\n",
              "      gap: 12px;\n",
              "    }\n",
              "\n",
              "    .colab-df-convert {\n",
              "      background-color: #E8F0FE;\n",
              "      border: none;\n",
              "      border-radius: 50%;\n",
              "      cursor: pointer;\n",
              "      display: none;\n",
              "      fill: #1967D2;\n",
              "      height: 32px;\n",
              "      padding: 0 0 0 0;\n",
              "      width: 32px;\n",
              "    }\n",
              "\n",
              "    .colab-df-convert:hover {\n",
              "      background-color: #E2EBFA;\n",
              "      box-shadow: 0px 1px 2px rgba(60, 64, 67, 0.3), 0px 1px 3px 1px rgba(60, 64, 67, 0.15);\n",
              "      fill: #174EA6;\n",
              "    }\n",
              "\n",
              "    [theme=dark] .colab-df-convert {\n",
              "      background-color: #3B4455;\n",
              "      fill: #D2E3FC;\n",
              "    }\n",
              "\n",
              "    [theme=dark] .colab-df-convert:hover {\n",
              "      background-color: #434B5C;\n",
              "      box-shadow: 0px 1px 3px 1px rgba(0, 0, 0, 0.15);\n",
              "      filter: drop-shadow(0px 1px 2px rgba(0, 0, 0, 0.3));\n",
              "      fill: #FFFFFF;\n",
              "    }\n",
              "  </style>\n",
              "\n",
              "      <script>\n",
              "        const buttonEl =\n",
              "          document.querySelector('#df-8de7c7c9-7af1-4052-9a6f-363bfa0c8dd3 button.colab-df-convert');\n",
              "        buttonEl.style.display =\n",
              "          google.colab.kernel.accessAllowed ? 'block' : 'none';\n",
              "\n",
              "        async function convertToInteractive(key) {\n",
              "          const element = document.querySelector('#df-8de7c7c9-7af1-4052-9a6f-363bfa0c8dd3');\n",
              "          const dataTable =\n",
              "            await google.colab.kernel.invokeFunction('convertToInteractive',\n",
              "                                                     [key], {});\n",
              "          if (!dataTable) return;\n",
              "\n",
              "          const docLinkHtml = 'Like what you see? Visit the ' +\n",
              "            '<a target=\"_blank\" href=https://colab.research.google.com/notebooks/data_table.ipynb>data table notebook</a>'\n",
              "            + ' to learn more about interactive tables.';\n",
              "          element.innerHTML = '';\n",
              "          dataTable['output_type'] = 'display_data';\n",
              "          await google.colab.output.renderOutput(dataTable, element);\n",
              "          const docLink = document.createElement('div');\n",
              "          docLink.innerHTML = docLinkHtml;\n",
              "          element.appendChild(docLink);\n",
              "        }\n",
              "      </script>\n",
              "    </div>\n",
              "  </div>\n",
              "  "
            ]
          },
          "metadata": {}
        }
      ],
      "source": [
        "display(X_train.head())\n",
        "display(y_train.head())"
      ]
    },
    {
      "cell_type": "code",
      "execution_count": 149,
      "id": "6b82d77b-16b5-4be6-8214-4c3e31fcc50b",
      "metadata": {
        "colab": {
          "base_uri": "https://localhost:8080/",
          "height": 395
        },
        "id": "6b82d77b-16b5-4be6-8214-4c3e31fcc50b",
        "outputId": "c353775e-628b-4dfa-e8b4-cebc0645cb5c"
      },
      "outputs": [
        {
          "output_type": "display_data",
          "data": {
            "text/plain": [
              "     SMA_ratio  Stochastic_Ratio  RSI_ratio  SMA_Volume_Ratio  \\\n",
              "251   0.968491          1.002250   1.085595          0.959270   \n",
              "727   0.982266          1.514840   1.154537          0.649080   \n",
              "293   0.969159          0.925221   0.748175          0.865415   \n",
              "615   1.013992          0.353627   0.322248          0.717783   \n",
              "144   0.972951          0.991400   1.013006          1.027228   \n",
              "\n",
              "     title_roberta_neg  title_roberta_neu  title_roberta_pos  \n",
              "251           0.097248           0.795748           0.107004  \n",
              "727           0.382141           0.586310           0.031549  \n",
              "293           0.280305           0.614064           0.105631  \n",
              "615           0.343742           0.614932           0.041326  \n",
              "144           0.305177           0.631045           0.063778  "
            ],
            "text/html": [
              "\n",
              "  <div id=\"df-21094590-766d-43ee-a88a-bd440a6d302a\">\n",
              "    <div class=\"colab-df-container\">\n",
              "      <div>\n",
              "<style scoped>\n",
              "    .dataframe tbody tr th:only-of-type {\n",
              "        vertical-align: middle;\n",
              "    }\n",
              "\n",
              "    .dataframe tbody tr th {\n",
              "        vertical-align: top;\n",
              "    }\n",
              "\n",
              "    .dataframe thead th {\n",
              "        text-align: right;\n",
              "    }\n",
              "</style>\n",
              "<table border=\"1\" class=\"dataframe\">\n",
              "  <thead>\n",
              "    <tr style=\"text-align: right;\">\n",
              "      <th></th>\n",
              "      <th>SMA_ratio</th>\n",
              "      <th>Stochastic_Ratio</th>\n",
              "      <th>RSI_ratio</th>\n",
              "      <th>SMA_Volume_Ratio</th>\n",
              "      <th>title_roberta_neg</th>\n",
              "      <th>title_roberta_neu</th>\n",
              "      <th>title_roberta_pos</th>\n",
              "    </tr>\n",
              "  </thead>\n",
              "  <tbody>\n",
              "    <tr>\n",
              "      <th>251</th>\n",
              "      <td>0.968491</td>\n",
              "      <td>1.002250</td>\n",
              "      <td>1.085595</td>\n",
              "      <td>0.959270</td>\n",
              "      <td>0.097248</td>\n",
              "      <td>0.795748</td>\n",
              "      <td>0.107004</td>\n",
              "    </tr>\n",
              "    <tr>\n",
              "      <th>727</th>\n",
              "      <td>0.982266</td>\n",
              "      <td>1.514840</td>\n",
              "      <td>1.154537</td>\n",
              "      <td>0.649080</td>\n",
              "      <td>0.382141</td>\n",
              "      <td>0.586310</td>\n",
              "      <td>0.031549</td>\n",
              "    </tr>\n",
              "    <tr>\n",
              "      <th>293</th>\n",
              "      <td>0.969159</td>\n",
              "      <td>0.925221</td>\n",
              "      <td>0.748175</td>\n",
              "      <td>0.865415</td>\n",
              "      <td>0.280305</td>\n",
              "      <td>0.614064</td>\n",
              "      <td>0.105631</td>\n",
              "    </tr>\n",
              "    <tr>\n",
              "      <th>615</th>\n",
              "      <td>1.013992</td>\n",
              "      <td>0.353627</td>\n",
              "      <td>0.322248</td>\n",
              "      <td>0.717783</td>\n",
              "      <td>0.343742</td>\n",
              "      <td>0.614932</td>\n",
              "      <td>0.041326</td>\n",
              "    </tr>\n",
              "    <tr>\n",
              "      <th>144</th>\n",
              "      <td>0.972951</td>\n",
              "      <td>0.991400</td>\n",
              "      <td>1.013006</td>\n",
              "      <td>1.027228</td>\n",
              "      <td>0.305177</td>\n",
              "      <td>0.631045</td>\n",
              "      <td>0.063778</td>\n",
              "    </tr>\n",
              "  </tbody>\n",
              "</table>\n",
              "</div>\n",
              "      <button class=\"colab-df-convert\" onclick=\"convertToInteractive('df-21094590-766d-43ee-a88a-bd440a6d302a')\"\n",
              "              title=\"Convert this dataframe to an interactive table.\"\n",
              "              style=\"display:none;\">\n",
              "        \n",
              "  <svg xmlns=\"http://www.w3.org/2000/svg\" height=\"24px\"viewBox=\"0 0 24 24\"\n",
              "       width=\"24px\">\n",
              "    <path d=\"M0 0h24v24H0V0z\" fill=\"none\"/>\n",
              "    <path d=\"M18.56 5.44l.94 2.06.94-2.06 2.06-.94-2.06-.94-.94-2.06-.94 2.06-2.06.94zm-11 1L8.5 8.5l.94-2.06 2.06-.94-2.06-.94L8.5 2.5l-.94 2.06-2.06.94zm10 10l.94 2.06.94-2.06 2.06-.94-2.06-.94-.94-2.06-.94 2.06-2.06.94z\"/><path d=\"M17.41 7.96l-1.37-1.37c-.4-.4-.92-.59-1.43-.59-.52 0-1.04.2-1.43.59L10.3 9.45l-7.72 7.72c-.78.78-.78 2.05 0 2.83L4 21.41c.39.39.9.59 1.41.59.51 0 1.02-.2 1.41-.59l7.78-7.78 2.81-2.81c.8-.78.8-2.07 0-2.86zM5.41 20L4 18.59l7.72-7.72 1.47 1.35L5.41 20z\"/>\n",
              "  </svg>\n",
              "      </button>\n",
              "      \n",
              "  <style>\n",
              "    .colab-df-container {\n",
              "      display:flex;\n",
              "      flex-wrap:wrap;\n",
              "      gap: 12px;\n",
              "    }\n",
              "\n",
              "    .colab-df-convert {\n",
              "      background-color: #E8F0FE;\n",
              "      border: none;\n",
              "      border-radius: 50%;\n",
              "      cursor: pointer;\n",
              "      display: none;\n",
              "      fill: #1967D2;\n",
              "      height: 32px;\n",
              "      padding: 0 0 0 0;\n",
              "      width: 32px;\n",
              "    }\n",
              "\n",
              "    .colab-df-convert:hover {\n",
              "      background-color: #E2EBFA;\n",
              "      box-shadow: 0px 1px 2px rgba(60, 64, 67, 0.3), 0px 1px 3px 1px rgba(60, 64, 67, 0.15);\n",
              "      fill: #174EA6;\n",
              "    }\n",
              "\n",
              "    [theme=dark] .colab-df-convert {\n",
              "      background-color: #3B4455;\n",
              "      fill: #D2E3FC;\n",
              "    }\n",
              "\n",
              "    [theme=dark] .colab-df-convert:hover {\n",
              "      background-color: #434B5C;\n",
              "      box-shadow: 0px 1px 3px 1px rgba(0, 0, 0, 0.15);\n",
              "      filter: drop-shadow(0px 1px 2px rgba(0, 0, 0, 0.3));\n",
              "      fill: #FFFFFF;\n",
              "    }\n",
              "  </style>\n",
              "\n",
              "      <script>\n",
              "        const buttonEl =\n",
              "          document.querySelector('#df-21094590-766d-43ee-a88a-bd440a6d302a button.colab-df-convert');\n",
              "        buttonEl.style.display =\n",
              "          google.colab.kernel.accessAllowed ? 'block' : 'none';\n",
              "\n",
              "        async function convertToInteractive(key) {\n",
              "          const element = document.querySelector('#df-21094590-766d-43ee-a88a-bd440a6d302a');\n",
              "          const dataTable =\n",
              "            await google.colab.kernel.invokeFunction('convertToInteractive',\n",
              "                                                     [key], {});\n",
              "          if (!dataTable) return;\n",
              "\n",
              "          const docLinkHtml = 'Like what you see? Visit the ' +\n",
              "            '<a target=\"_blank\" href=https://colab.research.google.com/notebooks/data_table.ipynb>data table notebook</a>'\n",
              "            + ' to learn more about interactive tables.';\n",
              "          element.innerHTML = '';\n",
              "          dataTable['output_type'] = 'display_data';\n",
              "          await google.colab.output.renderOutput(dataTable, element);\n",
              "          const docLink = document.createElement('div');\n",
              "          docLink.innerHTML = docLinkHtml;\n",
              "          element.appendChild(docLink);\n",
              "        }\n",
              "      </script>\n",
              "    </div>\n",
              "  </div>\n",
              "  "
            ]
          },
          "metadata": {}
        },
        {
          "output_type": "display_data",
          "data": {
            "text/plain": [
              "     price_pct_variation\n",
              "251            -1.418675\n",
              "727            -1.752136\n",
              "293             1.436311\n",
              "615             0.692757\n",
              "144             1.562913"
            ],
            "text/html": [
              "\n",
              "  <div id=\"df-ffc92f4d-8bd5-4acf-aec4-3410c33eebc9\">\n",
              "    <div class=\"colab-df-container\">\n",
              "      <div>\n",
              "<style scoped>\n",
              "    .dataframe tbody tr th:only-of-type {\n",
              "        vertical-align: middle;\n",
              "    }\n",
              "\n",
              "    .dataframe tbody tr th {\n",
              "        vertical-align: top;\n",
              "    }\n",
              "\n",
              "    .dataframe thead th {\n",
              "        text-align: right;\n",
              "    }\n",
              "</style>\n",
              "<table border=\"1\" class=\"dataframe\">\n",
              "  <thead>\n",
              "    <tr style=\"text-align: right;\">\n",
              "      <th></th>\n",
              "      <th>price_pct_variation</th>\n",
              "    </tr>\n",
              "  </thead>\n",
              "  <tbody>\n",
              "    <tr>\n",
              "      <th>251</th>\n",
              "      <td>-1.418675</td>\n",
              "    </tr>\n",
              "    <tr>\n",
              "      <th>727</th>\n",
              "      <td>-1.752136</td>\n",
              "    </tr>\n",
              "    <tr>\n",
              "      <th>293</th>\n",
              "      <td>1.436311</td>\n",
              "    </tr>\n",
              "    <tr>\n",
              "      <th>615</th>\n",
              "      <td>0.692757</td>\n",
              "    </tr>\n",
              "    <tr>\n",
              "      <th>144</th>\n",
              "      <td>1.562913</td>\n",
              "    </tr>\n",
              "  </tbody>\n",
              "</table>\n",
              "</div>\n",
              "      <button class=\"colab-df-convert\" onclick=\"convertToInteractive('df-ffc92f4d-8bd5-4acf-aec4-3410c33eebc9')\"\n",
              "              title=\"Convert this dataframe to an interactive table.\"\n",
              "              style=\"display:none;\">\n",
              "        \n",
              "  <svg xmlns=\"http://www.w3.org/2000/svg\" height=\"24px\"viewBox=\"0 0 24 24\"\n",
              "       width=\"24px\">\n",
              "    <path d=\"M0 0h24v24H0V0z\" fill=\"none\"/>\n",
              "    <path d=\"M18.56 5.44l.94 2.06.94-2.06 2.06-.94-2.06-.94-.94-2.06-.94 2.06-2.06.94zm-11 1L8.5 8.5l.94-2.06 2.06-.94-2.06-.94L8.5 2.5l-.94 2.06-2.06.94zm10 10l.94 2.06.94-2.06 2.06-.94-2.06-.94-.94-2.06-.94 2.06-2.06.94z\"/><path d=\"M17.41 7.96l-1.37-1.37c-.4-.4-.92-.59-1.43-.59-.52 0-1.04.2-1.43.59L10.3 9.45l-7.72 7.72c-.78.78-.78 2.05 0 2.83L4 21.41c.39.39.9.59 1.41.59.51 0 1.02-.2 1.41-.59l7.78-7.78 2.81-2.81c.8-.78.8-2.07 0-2.86zM5.41 20L4 18.59l7.72-7.72 1.47 1.35L5.41 20z\"/>\n",
              "  </svg>\n",
              "      </button>\n",
              "      \n",
              "  <style>\n",
              "    .colab-df-container {\n",
              "      display:flex;\n",
              "      flex-wrap:wrap;\n",
              "      gap: 12px;\n",
              "    }\n",
              "\n",
              "    .colab-df-convert {\n",
              "      background-color: #E8F0FE;\n",
              "      border: none;\n",
              "      border-radius: 50%;\n",
              "      cursor: pointer;\n",
              "      display: none;\n",
              "      fill: #1967D2;\n",
              "      height: 32px;\n",
              "      padding: 0 0 0 0;\n",
              "      width: 32px;\n",
              "    }\n",
              "\n",
              "    .colab-df-convert:hover {\n",
              "      background-color: #E2EBFA;\n",
              "      box-shadow: 0px 1px 2px rgba(60, 64, 67, 0.3), 0px 1px 3px 1px rgba(60, 64, 67, 0.15);\n",
              "      fill: #174EA6;\n",
              "    }\n",
              "\n",
              "    [theme=dark] .colab-df-convert {\n",
              "      background-color: #3B4455;\n",
              "      fill: #D2E3FC;\n",
              "    }\n",
              "\n",
              "    [theme=dark] .colab-df-convert:hover {\n",
              "      background-color: #434B5C;\n",
              "      box-shadow: 0px 1px 3px 1px rgba(0, 0, 0, 0.15);\n",
              "      filter: drop-shadow(0px 1px 2px rgba(0, 0, 0, 0.3));\n",
              "      fill: #FFFFFF;\n",
              "    }\n",
              "  </style>\n",
              "\n",
              "      <script>\n",
              "        const buttonEl =\n",
              "          document.querySelector('#df-ffc92f4d-8bd5-4acf-aec4-3410c33eebc9 button.colab-df-convert');\n",
              "        buttonEl.style.display =\n",
              "          google.colab.kernel.accessAllowed ? 'block' : 'none';\n",
              "\n",
              "        async function convertToInteractive(key) {\n",
              "          const element = document.querySelector('#df-ffc92f4d-8bd5-4acf-aec4-3410c33eebc9');\n",
              "          const dataTable =\n",
              "            await google.colab.kernel.invokeFunction('convertToInteractive',\n",
              "                                                     [key], {});\n",
              "          if (!dataTable) return;\n",
              "\n",
              "          const docLinkHtml = 'Like what you see? Visit the ' +\n",
              "            '<a target=\"_blank\" href=https://colab.research.google.com/notebooks/data_table.ipynb>data table notebook</a>'\n",
              "            + ' to learn more about interactive tables.';\n",
              "          element.innerHTML = '';\n",
              "          dataTable['output_type'] = 'display_data';\n",
              "          await google.colab.output.renderOutput(dataTable, element);\n",
              "          const docLink = document.createElement('div');\n",
              "          docLink.innerHTML = docLinkHtml;\n",
              "          element.appendChild(docLink);\n",
              "        }\n",
              "      </script>\n",
              "    </div>\n",
              "  </div>\n",
              "  "
            ]
          },
          "metadata": {}
        }
      ],
      "source": [
        "display(X_test.head())\n",
        "display(y_test.head())"
      ]
    },
    {
      "cell_type": "code",
      "source": [
        ""
      ],
      "metadata": {
        "id": "CBTvvImEPA6s"
      },
      "id": "CBTvvImEPA6s",
      "execution_count": 149,
      "outputs": []
    },
    {
      "cell_type": "markdown",
      "source": [
        "# Preprocessing"
      ],
      "metadata": {
        "id": "zdhW8_XeOfHC"
      },
      "id": "zdhW8_XeOfHC"
    },
    {
      "cell_type": "code",
      "source": [
        "from sklearn.pipeline import Pipeline\n",
        "from sklearn.impute import SimpleImputer\n",
        "from sklearn.preprocessing import OneHotEncoder, StandardScaler\n",
        "from sklearn.compose import ColumnTransformer\n",
        "from sklearn.linear_model import LinearRegression\n",
        "from sklearn.metrics import r2_score"
      ],
      "metadata": {
        "id": "KG4DDGUPOx5N"
      },
      "id": "KG4DDGUPOx5N",
      "execution_count": 150,
      "outputs": []
    },
    {
      "cell_type": "code",
      "execution_count": 151,
      "id": "c5043305-047d-47aa-8998-b370361d482d",
      "metadata": {
        "id": "c5043305-047d-47aa-8998-b370361d482d"
      },
      "outputs": [],
      "source": [
        "preprocessor = Pipeline(steps=[\n",
        "    ('imputer', SimpleImputer(strategy='median')),\n",
        "    ('scaler', StandardScaler())\n",
        "])"
      ]
    },
    {
      "cell_type": "code",
      "source": [
        "print(X_train.head())\n",
        "X_train = preprocessor.fit_transform(X_train)\n",
        "print(X_train[0:5,:])"
      ],
      "metadata": {
        "colab": {
          "base_uri": "https://localhost:8080/"
        },
        "id": "HN4NQYw42Gux",
        "outputId": "87b58c68-5695-45e1-c8de-d2701f211ab3"
      },
      "id": "HN4NQYw42Gux",
      "execution_count": 152,
      "outputs": [
        {
          "output_type": "stream",
          "name": "stdout",
          "text": [
            "     SMA_ratio  Stochastic_Ratio  RSI_ratio  SMA_Volume_Ratio  \\\n",
            "680   0.963740          1.112172   1.096312          0.809388   \n",
            "526   0.981906          1.186610   1.254286          1.428440   \n",
            "85    0.958739          1.061550   1.279707          0.790190   \n",
            "533   0.975835          0.831140   0.766483          1.038957   \n",
            "75    0.951612          1.072484   1.301282          0.812644   \n",
            "\n",
            "     title_roberta_neg  title_roberta_neu  title_roberta_pos  \n",
            "680           0.317700           0.633896           0.048404  \n",
            "526           0.223974           0.643639           0.132387  \n",
            "85            0.003638           0.388107           0.608256  \n",
            "533           0.197460           0.601910           0.200630  \n",
            "75            0.249670           0.662126           0.088204  \n",
            "[[-1.16282533  0.28857121  0.12188265 -0.75488407 -0.1298397   0.69661933\n",
            "  -0.78196884]\n",
            " [-0.61635533  0.49104996  0.41212865  1.65861388 -0.75575753  0.77074462\n",
            "   0.12863787]\n",
            " [-1.31326356  0.15087411  0.45883524 -0.82972958 -2.22720972 -1.17340919\n",
            "   5.28838528]\n",
            " [-0.79897094 -0.47586725 -0.48411434  0.14013799 -0.93282644  0.4532637\n",
            "   0.86858267]\n",
            " [-1.52768132  0.180615    0.49847413 -0.74218653 -0.58415226  0.91139836\n",
            "  -0.35043374]]\n"
          ]
        }
      ]
    },
    {
      "cell_type": "code",
      "execution_count": 153,
      "id": "811dc6c4-a8e6-40cf-8fe2-3266fa6e9019",
      "metadata": {
        "colab": {
          "base_uri": "https://localhost:8080/"
        },
        "id": "811dc6c4-a8e6-40cf-8fe2-3266fa6e9019",
        "outputId": "8c3952ec-8882-4bdc-8b8a-1b9a27d6f484"
      },
      "outputs": [
        {
          "output_type": "stream",
          "name": "stdout",
          "text": [
            "     SMA_ratio  Stochastic_Ratio  RSI_ratio  SMA_Volume_Ratio  \\\n",
            "251   0.968491          1.002250   1.085595          0.959270   \n",
            "727   0.982266          1.514840   1.154537          0.649080   \n",
            "293   0.969159          0.925221   0.748175          0.865415   \n",
            "615   1.013992          0.353627   0.322248          0.717783   \n",
            "144   0.972951          0.991400   1.013006          1.027228   \n",
            "\n",
            "     title_roberta_neg  title_roberta_neu  title_roberta_pos  \n",
            "251           0.097248           0.795748           0.107004  \n",
            "727           0.382141           0.586310           0.031549  \n",
            "293           0.280305           0.614064           0.105631  \n",
            "615           0.343742           0.614932           0.041326  \n",
            "144           0.305177           0.631045           0.063778  \n",
            "[[-1.0199129  -0.01042948  0.10219118 -0.17053725 -1.60205894  1.92802888\n",
            "  -0.14658815]\n",
            " [-0.60550353  1.38387493  0.22885878 -1.37987439  0.30051212  0.33457064\n",
            "  -0.96472286]\n",
            " [-0.99980407 -0.21995787 -0.51775099 -0.53645097 -0.37957066  0.54573058\n",
            "  -0.16146664]\n",
            " [ 0.3488837  -1.77475757 -1.30030989 -1.11202428  0.04407657  0.55233607\n",
            "  -0.85871753]\n",
            " [-0.88574381 -0.0399429  -0.03117599  0.09440942 -0.21346984  0.67493041\n",
            "  -0.61527659]]\n"
          ]
        }
      ],
      "source": [
        "print(X_test.head())\n",
        "X_test = preprocessor.transform(X_test)\n",
        "print(X_test[0:5,:])"
      ]
    },
    {
      "cell_type": "code",
      "source": [
        "display(y_train.head())\n",
        "display(y_test.head())"
      ],
      "metadata": {
        "colab": {
          "base_uri": "https://localhost:8080/",
          "height": 395
        },
        "id": "JCZj__zNPCxQ",
        "outputId": "eed21a73-5d9a-4d1b-c85b-0f124f0f6270"
      },
      "id": "JCZj__zNPCxQ",
      "execution_count": 154,
      "outputs": [
        {
          "output_type": "display_data",
          "data": {
            "text/plain": [
              "     price_pct_variation\n",
              "680             1.221265\n",
              "526            -0.385263\n",
              "85              0.490996\n",
              "533            -1.435756\n",
              "75             -2.517623"
            ],
            "text/html": [
              "\n",
              "  <div id=\"df-12b91037-3c06-4625-96ba-393c6b30a0b9\">\n",
              "    <div class=\"colab-df-container\">\n",
              "      <div>\n",
              "<style scoped>\n",
              "    .dataframe tbody tr th:only-of-type {\n",
              "        vertical-align: middle;\n",
              "    }\n",
              "\n",
              "    .dataframe tbody tr th {\n",
              "        vertical-align: top;\n",
              "    }\n",
              "\n",
              "    .dataframe thead th {\n",
              "        text-align: right;\n",
              "    }\n",
              "</style>\n",
              "<table border=\"1\" class=\"dataframe\">\n",
              "  <thead>\n",
              "    <tr style=\"text-align: right;\">\n",
              "      <th></th>\n",
              "      <th>price_pct_variation</th>\n",
              "    </tr>\n",
              "  </thead>\n",
              "  <tbody>\n",
              "    <tr>\n",
              "      <th>680</th>\n",
              "      <td>1.221265</td>\n",
              "    </tr>\n",
              "    <tr>\n",
              "      <th>526</th>\n",
              "      <td>-0.385263</td>\n",
              "    </tr>\n",
              "    <tr>\n",
              "      <th>85</th>\n",
              "      <td>0.490996</td>\n",
              "    </tr>\n",
              "    <tr>\n",
              "      <th>533</th>\n",
              "      <td>-1.435756</td>\n",
              "    </tr>\n",
              "    <tr>\n",
              "      <th>75</th>\n",
              "      <td>-2.517623</td>\n",
              "    </tr>\n",
              "  </tbody>\n",
              "</table>\n",
              "</div>\n",
              "      <button class=\"colab-df-convert\" onclick=\"convertToInteractive('df-12b91037-3c06-4625-96ba-393c6b30a0b9')\"\n",
              "              title=\"Convert this dataframe to an interactive table.\"\n",
              "              style=\"display:none;\">\n",
              "        \n",
              "  <svg xmlns=\"http://www.w3.org/2000/svg\" height=\"24px\"viewBox=\"0 0 24 24\"\n",
              "       width=\"24px\">\n",
              "    <path d=\"M0 0h24v24H0V0z\" fill=\"none\"/>\n",
              "    <path d=\"M18.56 5.44l.94 2.06.94-2.06 2.06-.94-2.06-.94-.94-2.06-.94 2.06-2.06.94zm-11 1L8.5 8.5l.94-2.06 2.06-.94-2.06-.94L8.5 2.5l-.94 2.06-2.06.94zm10 10l.94 2.06.94-2.06 2.06-.94-2.06-.94-.94-2.06-.94 2.06-2.06.94z\"/><path d=\"M17.41 7.96l-1.37-1.37c-.4-.4-.92-.59-1.43-.59-.52 0-1.04.2-1.43.59L10.3 9.45l-7.72 7.72c-.78.78-.78 2.05 0 2.83L4 21.41c.39.39.9.59 1.41.59.51 0 1.02-.2 1.41-.59l7.78-7.78 2.81-2.81c.8-.78.8-2.07 0-2.86zM5.41 20L4 18.59l7.72-7.72 1.47 1.35L5.41 20z\"/>\n",
              "  </svg>\n",
              "      </button>\n",
              "      \n",
              "  <style>\n",
              "    .colab-df-container {\n",
              "      display:flex;\n",
              "      flex-wrap:wrap;\n",
              "      gap: 12px;\n",
              "    }\n",
              "\n",
              "    .colab-df-convert {\n",
              "      background-color: #E8F0FE;\n",
              "      border: none;\n",
              "      border-radius: 50%;\n",
              "      cursor: pointer;\n",
              "      display: none;\n",
              "      fill: #1967D2;\n",
              "      height: 32px;\n",
              "      padding: 0 0 0 0;\n",
              "      width: 32px;\n",
              "    }\n",
              "\n",
              "    .colab-df-convert:hover {\n",
              "      background-color: #E2EBFA;\n",
              "      box-shadow: 0px 1px 2px rgba(60, 64, 67, 0.3), 0px 1px 3px 1px rgba(60, 64, 67, 0.15);\n",
              "      fill: #174EA6;\n",
              "    }\n",
              "\n",
              "    [theme=dark] .colab-df-convert {\n",
              "      background-color: #3B4455;\n",
              "      fill: #D2E3FC;\n",
              "    }\n",
              "\n",
              "    [theme=dark] .colab-df-convert:hover {\n",
              "      background-color: #434B5C;\n",
              "      box-shadow: 0px 1px 3px 1px rgba(0, 0, 0, 0.15);\n",
              "      filter: drop-shadow(0px 1px 2px rgba(0, 0, 0, 0.3));\n",
              "      fill: #FFFFFF;\n",
              "    }\n",
              "  </style>\n",
              "\n",
              "      <script>\n",
              "        const buttonEl =\n",
              "          document.querySelector('#df-12b91037-3c06-4625-96ba-393c6b30a0b9 button.colab-df-convert');\n",
              "        buttonEl.style.display =\n",
              "          google.colab.kernel.accessAllowed ? 'block' : 'none';\n",
              "\n",
              "        async function convertToInteractive(key) {\n",
              "          const element = document.querySelector('#df-12b91037-3c06-4625-96ba-393c6b30a0b9');\n",
              "          const dataTable =\n",
              "            await google.colab.kernel.invokeFunction('convertToInteractive',\n",
              "                                                     [key], {});\n",
              "          if (!dataTable) return;\n",
              "\n",
              "          const docLinkHtml = 'Like what you see? Visit the ' +\n",
              "            '<a target=\"_blank\" href=https://colab.research.google.com/notebooks/data_table.ipynb>data table notebook</a>'\n",
              "            + ' to learn more about interactive tables.';\n",
              "          element.innerHTML = '';\n",
              "          dataTable['output_type'] = 'display_data';\n",
              "          await google.colab.output.renderOutput(dataTable, element);\n",
              "          const docLink = document.createElement('div');\n",
              "          docLink.innerHTML = docLinkHtml;\n",
              "          element.appendChild(docLink);\n",
              "        }\n",
              "      </script>\n",
              "    </div>\n",
              "  </div>\n",
              "  "
            ]
          },
          "metadata": {}
        },
        {
          "output_type": "display_data",
          "data": {
            "text/plain": [
              "     price_pct_variation\n",
              "251            -1.418675\n",
              "727            -1.752136\n",
              "293             1.436311\n",
              "615             0.692757\n",
              "144             1.562913"
            ],
            "text/html": [
              "\n",
              "  <div id=\"df-28894263-e820-4f8e-a956-3ad11d360a52\">\n",
              "    <div class=\"colab-df-container\">\n",
              "      <div>\n",
              "<style scoped>\n",
              "    .dataframe tbody tr th:only-of-type {\n",
              "        vertical-align: middle;\n",
              "    }\n",
              "\n",
              "    .dataframe tbody tr th {\n",
              "        vertical-align: top;\n",
              "    }\n",
              "\n",
              "    .dataframe thead th {\n",
              "        text-align: right;\n",
              "    }\n",
              "</style>\n",
              "<table border=\"1\" class=\"dataframe\">\n",
              "  <thead>\n",
              "    <tr style=\"text-align: right;\">\n",
              "      <th></th>\n",
              "      <th>price_pct_variation</th>\n",
              "    </tr>\n",
              "  </thead>\n",
              "  <tbody>\n",
              "    <tr>\n",
              "      <th>251</th>\n",
              "      <td>-1.418675</td>\n",
              "    </tr>\n",
              "    <tr>\n",
              "      <th>727</th>\n",
              "      <td>-1.752136</td>\n",
              "    </tr>\n",
              "    <tr>\n",
              "      <th>293</th>\n",
              "      <td>1.436311</td>\n",
              "    </tr>\n",
              "    <tr>\n",
              "      <th>615</th>\n",
              "      <td>0.692757</td>\n",
              "    </tr>\n",
              "    <tr>\n",
              "      <th>144</th>\n",
              "      <td>1.562913</td>\n",
              "    </tr>\n",
              "  </tbody>\n",
              "</table>\n",
              "</div>\n",
              "      <button class=\"colab-df-convert\" onclick=\"convertToInteractive('df-28894263-e820-4f8e-a956-3ad11d360a52')\"\n",
              "              title=\"Convert this dataframe to an interactive table.\"\n",
              "              style=\"display:none;\">\n",
              "        \n",
              "  <svg xmlns=\"http://www.w3.org/2000/svg\" height=\"24px\"viewBox=\"0 0 24 24\"\n",
              "       width=\"24px\">\n",
              "    <path d=\"M0 0h24v24H0V0z\" fill=\"none\"/>\n",
              "    <path d=\"M18.56 5.44l.94 2.06.94-2.06 2.06-.94-2.06-.94-.94-2.06-.94 2.06-2.06.94zm-11 1L8.5 8.5l.94-2.06 2.06-.94-2.06-.94L8.5 2.5l-.94 2.06-2.06.94zm10 10l.94 2.06.94-2.06 2.06-.94-2.06-.94-.94-2.06-.94 2.06-2.06.94z\"/><path d=\"M17.41 7.96l-1.37-1.37c-.4-.4-.92-.59-1.43-.59-.52 0-1.04.2-1.43.59L10.3 9.45l-7.72 7.72c-.78.78-.78 2.05 0 2.83L4 21.41c.39.39.9.59 1.41.59.51 0 1.02-.2 1.41-.59l7.78-7.78 2.81-2.81c.8-.78.8-2.07 0-2.86zM5.41 20L4 18.59l7.72-7.72 1.47 1.35L5.41 20z\"/>\n",
              "  </svg>\n",
              "      </button>\n",
              "      \n",
              "  <style>\n",
              "    .colab-df-container {\n",
              "      display:flex;\n",
              "      flex-wrap:wrap;\n",
              "      gap: 12px;\n",
              "    }\n",
              "\n",
              "    .colab-df-convert {\n",
              "      background-color: #E8F0FE;\n",
              "      border: none;\n",
              "      border-radius: 50%;\n",
              "      cursor: pointer;\n",
              "      display: none;\n",
              "      fill: #1967D2;\n",
              "      height: 32px;\n",
              "      padding: 0 0 0 0;\n",
              "      width: 32px;\n",
              "    }\n",
              "\n",
              "    .colab-df-convert:hover {\n",
              "      background-color: #E2EBFA;\n",
              "      box-shadow: 0px 1px 2px rgba(60, 64, 67, 0.3), 0px 1px 3px 1px rgba(60, 64, 67, 0.15);\n",
              "      fill: #174EA6;\n",
              "    }\n",
              "\n",
              "    [theme=dark] .colab-df-convert {\n",
              "      background-color: #3B4455;\n",
              "      fill: #D2E3FC;\n",
              "    }\n",
              "\n",
              "    [theme=dark] .colab-df-convert:hover {\n",
              "      background-color: #434B5C;\n",
              "      box-shadow: 0px 1px 3px 1px rgba(0, 0, 0, 0.15);\n",
              "      filter: drop-shadow(0px 1px 2px rgba(0, 0, 0, 0.3));\n",
              "      fill: #FFFFFF;\n",
              "    }\n",
              "  </style>\n",
              "\n",
              "      <script>\n",
              "        const buttonEl =\n",
              "          document.querySelector('#df-28894263-e820-4f8e-a956-3ad11d360a52 button.colab-df-convert');\n",
              "        buttonEl.style.display =\n",
              "          google.colab.kernel.accessAllowed ? 'block' : 'none';\n",
              "\n",
              "        async function convertToInteractive(key) {\n",
              "          const element = document.querySelector('#df-28894263-e820-4f8e-a956-3ad11d360a52');\n",
              "          const dataTable =\n",
              "            await google.colab.kernel.invokeFunction('convertToInteractive',\n",
              "                                                     [key], {});\n",
              "          if (!dataTable) return;\n",
              "\n",
              "          const docLinkHtml = 'Like what you see? Visit the ' +\n",
              "            '<a target=\"_blank\" href=https://colab.research.google.com/notebooks/data_table.ipynb>data table notebook</a>'\n",
              "            + ' to learn more about interactive tables.';\n",
              "          element.innerHTML = '';\n",
              "          dataTable['output_type'] = 'display_data';\n",
              "          await google.colab.output.renderOutput(dataTable, element);\n",
              "          const docLink = document.createElement('div');\n",
              "          docLink.innerHTML = docLinkHtml;\n",
              "          element.appendChild(docLink);\n",
              "        }\n",
              "      </script>\n",
              "    </div>\n",
              "  </div>\n",
              "  "
            ]
          },
          "metadata": {}
        }
      ]
    },
    {
      "cell_type": "markdown",
      "source": [
        "# Linear Regression"
      ],
      "metadata": {
        "id": "JlYhdo76PDJg"
      },
      "id": "JlYhdo76PDJg"
    },
    {
      "cell_type": "code",
      "execution_count": 155,
      "id": "a5027daa-9344-4601-925a-5de43362e8c7",
      "metadata": {
        "colab": {
          "base_uri": "https://localhost:8080/"
        },
        "id": "a5027daa-9344-4601-925a-5de43362e8c7",
        "outputId": "0ba41f85-ce99-4a4e-917d-ba05d13ed1c3"
      },
      "outputs": [
        {
          "output_type": "execute_result",
          "data": {
            "text/plain": [
              "LinearRegression()"
            ]
          },
          "metadata": {},
          "execution_count": 155
        }
      ],
      "source": [
        "regressor = LinearRegression()\n",
        "regressor.fit(X_train, y_train)"
      ]
    },
    {
      "cell_type": "code",
      "execution_count": 156,
      "id": "9193407d-2145-42ed-b6c3-b2413a06c32c",
      "metadata": {
        "id": "9193407d-2145-42ed-b6c3-b2413a06c32c"
      },
      "outputs": [],
      "source": [
        "y_train_pred = regressor.predict(X_train)\n",
        "y_test_pred = regressor.predict(X_test)"
      ]
    },
    {
      "cell_type": "code",
      "execution_count": 157,
      "id": "76201515-f62b-4786-8eed-139edf263c51",
      "metadata": {
        "colab": {
          "base_uri": "https://localhost:8080/"
        },
        "id": "76201515-f62b-4786-8eed-139edf263c51",
        "outputId": "bd4eca1a-3e32-4bbc-d6de-5abca9a4519b"
      },
      "outputs": [
        {
          "output_type": "stream",
          "name": "stdout",
          "text": [
            "R2 score on training set :  0.015776907190023226\n",
            "R2 score on test set :  0.002789408663328774\n"
          ]
        }
      ],
      "source": [
        "print(\"R2 score on training set : \", r2_score(y_train, y_train_pred))\n",
        "print(\"R2 score on test set : \", r2_score(y_test, y_test_pred))"
      ]
    },
    {
      "cell_type": "code",
      "source": [
        ""
      ],
      "metadata": {
        "id": "7pkqWh2AIuiW"
      },
      "id": "7pkqWh2AIuiW",
      "execution_count": 157,
      "outputs": []
    },
    {
      "cell_type": "markdown",
      "source": [
        "# Random Forest Regressor"
      ],
      "metadata": {
        "id": "19ocpVcuPKHN"
      },
      "id": "19ocpVcuPKHN"
    },
    {
      "cell_type": "code",
      "source": [
        "from sklearn.linear_model import LinearRegression\n",
        "from sklearn.metrics import mean_squared_error\n",
        "from sklearn.ensemble import RandomForestRegressor\n",
        "from sklearn.model_selection import GridSearchCV"
      ],
      "metadata": {
        "id": "FIcmD_3SIvGb"
      },
      "id": "FIcmD_3SIvGb",
      "execution_count": 158,
      "outputs": []
    },
    {
      "cell_type": "code",
      "source": [
        "# Perform grid search\n",
        "print(\"Grid search...\")\n",
        "rf_regressor = RandomForestRegressor()\n",
        "\n",
        "# Grid of values to be tested\n",
        "params = {\n",
        "    'max_depth': [4, 6, 8],\n",
        "    'min_samples_leaf': [1, 2, 5],\n",
        "    'min_samples_split': [1, 2, 4],\n",
        "    'n_estimators': [10, 15, 20, 40]\n",
        "}\n",
        "gridsearch_rf = GridSearchCV(rf_regressor, param_grid = params, cv = 10) # cv : the number of folds to be used for CV\n",
        "gridsearch_rf.fit(X_train, y_train.values.ravel())\n",
        "print(\"...Done.\")"
      ],
      "metadata": {
        "colab": {
          "base_uri": "https://localhost:8080/"
        },
        "id": "UmA8mSMrI4mc",
        "outputId": "77713164-e45a-43bf-fd6e-cf11b3fd5989"
      },
      "id": "UmA8mSMrI4mc",
      "execution_count": 159,
      "outputs": [
        {
          "output_type": "stream",
          "name": "stdout",
          "text": [
            "Grid search...\n",
            "...Done.\n"
          ]
        },
        {
          "output_type": "stream",
          "name": "stderr",
          "text": [
            "/usr/local/lib/python3.7/dist-packages/sklearn/model_selection/_validation.py:372: FitFailedWarning: \n",
            "360 fits failed out of a total of 1080.\n",
            "The score on these train-test partitions for these parameters will be set to nan.\n",
            "If these failures are not expected, you can try to debug them by setting error_score='raise'.\n",
            "\n",
            "Below are more details about the failures:\n",
            "--------------------------------------------------------------------------------\n",
            "360 fits failed with the following error:\n",
            "Traceback (most recent call last):\n",
            "  File \"/usr/local/lib/python3.7/dist-packages/sklearn/model_selection/_validation.py\", line 680, in _fit_and_score\n",
            "    estimator.fit(X_train, y_train, **fit_params)\n",
            "  File \"/usr/local/lib/python3.7/dist-packages/sklearn/ensemble/_forest.py\", line 467, in fit\n",
            "    for i, t in enumerate(trees)\n",
            "  File \"/usr/local/lib/python3.7/dist-packages/joblib/parallel.py\", line 1043, in __call__\n",
            "    if self.dispatch_one_batch(iterator):\n",
            "  File \"/usr/local/lib/python3.7/dist-packages/joblib/parallel.py\", line 861, in dispatch_one_batch\n",
            "    self._dispatch(tasks)\n",
            "  File \"/usr/local/lib/python3.7/dist-packages/joblib/parallel.py\", line 779, in _dispatch\n",
            "    job = self._backend.apply_async(batch, callback=cb)\n",
            "  File \"/usr/local/lib/python3.7/dist-packages/joblib/_parallel_backends.py\", line 208, in apply_async\n",
            "    result = ImmediateResult(func)\n",
            "  File \"/usr/local/lib/python3.7/dist-packages/joblib/_parallel_backends.py\", line 572, in __init__\n",
            "    self.results = batch()\n",
            "  File \"/usr/local/lib/python3.7/dist-packages/joblib/parallel.py\", line 263, in __call__\n",
            "    for func, args, kwargs in self.items]\n",
            "  File \"/usr/local/lib/python3.7/dist-packages/joblib/parallel.py\", line 263, in <listcomp>\n",
            "    for func, args, kwargs in self.items]\n",
            "  File \"/usr/local/lib/python3.7/dist-packages/sklearn/utils/fixes.py\", line 216, in __call__\n",
            "    return self.function(*args, **kwargs)\n",
            "  File \"/usr/local/lib/python3.7/dist-packages/sklearn/ensemble/_forest.py\", line 185, in _parallel_build_trees\n",
            "    tree.fit(X, y, sample_weight=curr_sample_weight, check_input=False)\n",
            "  File \"/usr/local/lib/python3.7/dist-packages/sklearn/tree/_classes.py\", line 1320, in fit\n",
            "    X_idx_sorted=X_idx_sorted,\n",
            "  File \"/usr/local/lib/python3.7/dist-packages/sklearn/tree/_classes.py\", line 254, in fit\n",
            "    % self.min_samples_split\n",
            "ValueError: min_samples_split must be an integer greater than 1 or a float in (0.0, 1.0]; got the integer 1\n",
            "\n",
            "  warnings.warn(some_fits_failed_message, FitFailedWarning)\n",
            "/usr/local/lib/python3.7/dist-packages/sklearn/model_selection/_search.py:972: UserWarning: One or more of the test scores are non-finite: [        nan         nan         nan         nan -0.04772818  0.00065915\n",
            " -0.03857265 -0.02866937 -0.03300522 -0.02456336 -0.03447778 -0.03452887\n",
            "         nan         nan         nan         nan -0.02187669 -0.03646907\n",
            " -0.01604075 -0.01452429 -0.03829845 -0.01584508 -0.02530259 -0.02300072\n",
            "         nan         nan         nan         nan -0.03017002 -0.04459766\n",
            " -0.03454555 -0.03324762 -0.03707994  0.00021695 -0.03571116 -0.03148105\n",
            "         nan         nan         nan         nan -0.09364816 -0.08225781\n",
            " -0.04045741 -0.04244311 -0.04507041 -0.07123156 -0.019728   -0.05175495\n",
            "         nan         nan         nan         nan -0.04500512 -0.0468136\n",
            " -0.02687891 -0.0237432  -0.0824802  -0.02804499 -0.0474741  -0.0324778\n",
            "         nan         nan         nan         nan -0.03516883 -0.05345312\n",
            " -0.030596   -0.02872842 -0.07656336 -0.03509039 -0.05440226 -0.02654967\n",
            "         nan         nan         nan         nan -0.04175697 -0.06384299\n",
            " -0.04800148 -0.02944136 -0.05649964 -0.09579557 -0.04260639 -0.04066747\n",
            "         nan         nan         nan         nan -0.06985705 -0.05707812\n",
            " -0.03520371 -0.03965241 -0.06344369 -0.05011787 -0.04257004 -0.03149093\n",
            "         nan         nan         nan         nan -0.05320467 -0.06742281\n",
            " -0.03385012 -0.0346441  -0.05131065 -0.04169673 -0.05096197 -0.03915471]\n",
            "  category=UserWarning,\n"
          ]
        }
      ]
    },
    {
      "cell_type": "code",
      "source": [
        "print(\"Best hyperparameters : \", gridsearch_rf.best_params_)\n",
        "print(\"Best validation accuracy : \", gridsearch_rf.best_score_)"
      ],
      "metadata": {
        "colab": {
          "base_uri": "https://localhost:8080/"
        },
        "id": "IkVI0fOEQ8jV",
        "outputId": "bc34994b-5e3d-4740-9277-e42679148334"
      },
      "id": "IkVI0fOEQ8jV",
      "execution_count": 160,
      "outputs": [
        {
          "output_type": "stream",
          "name": "stdout",
          "text": [
            "Best hyperparameters :  {'max_depth': 4, 'min_samples_leaf': 1, 'min_samples_split': 2, 'n_estimators': 15}\n",
            "Best validation accuracy :  0.0006591534458804449\n"
          ]
        }
      ]
    },
    {
      "cell_type": "code",
      "source": [
        "best_model_rf = gridsearch_rf.best_estimator_\n",
        "best_model_rf"
      ],
      "metadata": {
        "colab": {
          "base_uri": "https://localhost:8080/"
        },
        "id": "MY24XLSyJnSZ",
        "outputId": "0c6a7322-e647-4408-95a4-fdacf1d5ba9c"
      },
      "id": "MY24XLSyJnSZ",
      "execution_count": 161,
      "outputs": [
        {
          "output_type": "execute_result",
          "data": {
            "text/plain": [
              "RandomForestRegressor(max_depth=4, n_estimators=15)"
            ]
          },
          "metadata": {},
          "execution_count": 161
        }
      ]
    },
    {
      "cell_type": "code",
      "source": [
        "y_train_pred = best_model_rf.predict(X_train)\n",
        "y_test_pred = best_model_rf.predict(X_test)"
      ],
      "metadata": {
        "id": "_98LTtqbeSNP"
      },
      "id": "_98LTtqbeSNP",
      "execution_count": 162,
      "outputs": []
    },
    {
      "cell_type": "code",
      "source": [
        "print(\"R2 score on training set : \", r2_score(y_train, y_train_pred))\n",
        "print(\"R2 score on test set : \", r2_score(y_test, y_test_pred))"
      ],
      "metadata": {
        "colab": {
          "base_uri": "https://localhost:8080/"
        },
        "id": "G7nDFiJ6Jf7M",
        "outputId": "fd6d2292-922d-40ed-8ee2-23752f852cfd"
      },
      "id": "G7nDFiJ6Jf7M",
      "execution_count": 163,
      "outputs": [
        {
          "output_type": "stream",
          "name": "stdout",
          "text": [
            "R2 score on training set :  0.2138072947354076\n",
            "R2 score on test set :  -0.04246965676032488\n"
          ]
        }
      ]
    },
    {
      "cell_type": "code",
      "source": [
        ""
      ],
      "metadata": {
        "id": "ZYYAhVstQZVl"
      },
      "id": "ZYYAhVstQZVl",
      "execution_count": 163,
      "outputs": []
    },
    {
      "cell_type": "markdown",
      "source": [
        "# XGBoost"
      ],
      "metadata": {
        "id": "SWfeHXzcSEh1"
      },
      "id": "SWfeHXzcSEh1"
    },
    {
      "cell_type": "code",
      "source": [
        "import xgboost as xg"
      ],
      "metadata": {
        "id": "OGDwJp-4SR4R"
      },
      "id": "OGDwJp-4SR4R",
      "execution_count": 164,
      "outputs": []
    },
    {
      "cell_type": "code",
      "source": [
        "# Instantiation\n",
        "xgb_r = xg.XGBRegressor(objective ='reg:squarederror', n_estimators = 100, seed = 123)"
      ],
      "metadata": {
        "id": "3P7uHVt6SH8b"
      },
      "id": "3P7uHVt6SH8b",
      "execution_count": 165,
      "outputs": []
    },
    {
      "cell_type": "code",
      "source": [
        "# Fitting the model\n",
        "xgb_r.fit(X_train, y_train)"
      ],
      "metadata": {
        "colab": {
          "base_uri": "https://localhost:8080/"
        },
        "id": "Ds59QFjoSgPk",
        "outputId": "26b67874-e544-4bfb-c743-86e151509024"
      },
      "id": "Ds59QFjoSgPk",
      "execution_count": 166,
      "outputs": [
        {
          "output_type": "execute_result",
          "data": {
            "text/plain": [
              "XGBRegressor(objective='reg:squarederror', seed=123)"
            ]
          },
          "metadata": {},
          "execution_count": 166
        }
      ]
    },
    {
      "cell_type": "code",
      "source": [
        "r2_score(y_test, xgb_r.predict(X_test))"
      ],
      "metadata": {
        "colab": {
          "base_uri": "https://localhost:8080/"
        },
        "id": "sEnwgX0BTJIP",
        "outputId": "cfc1df05-4019-4b00-e216-661a10f633e7"
      },
      "id": "sEnwgX0BTJIP",
      "execution_count": 167,
      "outputs": [
        {
          "output_type": "execute_result",
          "data": {
            "text/plain": [
              "-0.08314818411824487"
            ]
          },
          "metadata": {},
          "execution_count": 167
        }
      ]
    },
    {
      "cell_type": "code",
      "source": [
        "import matplotlib.pyplot as plt\n",
        "from xgboost import plot_importance\n",
        "\n",
        "plt.style.use('fivethirtyeight')\n",
        "plt.rcParams.update({'font.size': 16})\n",
        "\n",
        "fig, ax = plt.subplots(figsize=(12,6))\n",
        "plot_importance(xgb_r, max_num_features=12, ax=ax)\n",
        "plt.show();"
      ],
      "metadata": {
        "colab": {
          "base_uri": "https://localhost:8080/",
          "height": 446
        },
        "id": "aOyaQCOuS3ZQ",
        "outputId": "a59f3ffc-f779-4dd1-e4c3-31ba281ea2ab"
      },
      "id": "aOyaQCOuS3ZQ",
      "execution_count": 168,
      "outputs": [
        {
          "output_type": "display_data",
          "data": {
            "text/plain": [
              "<Figure size 864x432 with 1 Axes>"
            ],
            "image/png": "[encoded data removed]"
          },
          "metadata": {}
        }
      ]
    },
    {
      "cell_type": "code",
      "source": [
        "# Perform grid search\n",
        "print(\"Grid search...\")\n",
        "xgb_r1 = xg.XGBRegressor()\n",
        "\n",
        "# Grid of values to be tested\n",
        "params = {\n",
        "    'n_estimators': [10, 15, 20, 25, 50, 80]\n",
        "}\n",
        "gridsearch_xgb = GridSearchCV(xgb_r1, param_grid = params, cv = 10) # cv : the number of folds to be used for CV\n",
        "gridsearch_xgb.fit(X_train, y_train.values.ravel())\n",
        "print(\"...Done.\")"
      ],
      "metadata": {
        "colab": {
          "base_uri": "https://localhost:8080/"
        },
        "id": "UW2ilqPvTZUi",
        "outputId": "1e7ea37e-681f-4dc8-d3bf-0ac58ef768c1"
      },
      "id": "UW2ilqPvTZUi",
      "execution_count": 169,
      "outputs": [
        {
          "output_type": "stream",
          "name": "stdout",
          "text": [
            "Grid search...\n",
            "[12:31:54] WARNING: /workspace/src/objective/regression_obj.cu:152: reg:linear is now deprecated in favor of reg:squarederror.\n",
            "[12:31:54] WARNING: /workspace/src/objective/regression_obj.cu:152: reg:linear is now deprecated in favor of reg:squarederror.\n",
            "[12:31:54] WARNING: /workspace/src/objective/regression_obj.cu:152: reg:linear is now deprecated in favor of reg:squarederror.\n",
            "[12:31:54] WARNING: /workspace/src/objective/regression_obj.cu:152: reg:linear is now deprecated in favor of reg:squarederror.\n",
            "[12:31:54] WARNING: /workspace/src/objective/regression_obj.cu:152: reg:linear is now deprecated in favor of reg:squarederror.\n",
            "[12:31:54] WARNING: /workspace/src/objective/regression_obj.cu:152: reg:linear is now deprecated in favor of reg:squarederror.\n",
            "[12:31:54] WARNING: /workspace/src/objective/regression_obj.cu:152: reg:linear is now deprecated in favor of reg:squarederror.\n",
            "[12:31:54] WARNING: /workspace/src/objective/regression_obj.cu:152: reg:linear is now deprecated in favor of reg:squarederror.\n",
            "[12:31:54] WARNING: /workspace/src/objective/regression_obj.cu:152: reg:linear is now deprecated in favor of reg:squarederror.\n",
            "[12:31:54] WARNING: /workspace/src/objective/regression_obj.cu:152: reg:linear is now deprecated in favor of reg:squarederror.\n",
            "[12:31:54] WARNING: /workspace/src/objective/regression_obj.cu:152: reg:linear is now deprecated in favor of reg:squarederror.\n",
            "[12:31:54] WARNING: /workspace/src/objective/regression_obj.cu:152: reg:linear is now deprecated in favor of reg:squarederror.\n",
            "[12:31:54] WARNING: /workspace/src/objective/regression_obj.cu:152: reg:linear is now deprecated in favor of reg:squarederror.\n",
            "[12:31:54] WARNING: /workspace/src/objective/regression_obj.cu:152: reg:linear is now deprecated in favor of reg:squarederror.\n",
            "[12:31:54] WARNING: /workspace/src/objective/regression_obj.cu:152: reg:linear is now deprecated in favor of reg:squarederror.\n",
            "[12:31:54] WARNING: /workspace/src/objective/regression_obj.cu:152: reg:linear is now deprecated in favor of reg:squarederror.\n",
            "[12:31:54] WARNING: /workspace/src/objective/regression_obj.cu:152: reg:linear is now deprecated in favor of reg:squarederror.\n",
            "[12:31:54] WARNING: /workspace/src/objective/regression_obj.cu:152: reg:linear is now deprecated in favor of reg:squarederror.\n",
            "[12:31:54] WARNING: /workspace/src/objective/regression_obj.cu:152: reg:linear is now deprecated in favor of reg:squarederror.\n",
            "[12:31:54] WARNING: /workspace/src/objective/regression_obj.cu:152: reg:linear is now deprecated in favor of reg:squarederror.\n",
            "[12:31:54] WARNING: /workspace/src/objective/regression_obj.cu:152: reg:linear is now deprecated in favor of reg:squarederror.\n",
            "[12:31:54] WARNING: /workspace/src/objective/regression_obj.cu:152: reg:linear is now deprecated in favor of reg:squarederror.\n",
            "[12:31:54] WARNING: /workspace/src/objective/regression_obj.cu:152: reg:linear is now deprecated in favor of reg:squarederror.\n",
            "[12:31:54] WARNING: /workspace/src/objective/regression_obj.cu:152: reg:linear is now deprecated in favor of reg:squarederror.\n",
            "[12:31:54] WARNING: /workspace/src/objective/regression_obj.cu:152: reg:linear is now deprecated in favor of reg:squarederror.\n",
            "[12:31:54] WARNING: /workspace/src/objective/regression_obj.cu:152: reg:linear is now deprecated in favor of reg:squarederror.\n",
            "[12:31:54] WARNING: /workspace/src/objective/regression_obj.cu:152: reg:linear is now deprecated in favor of reg:squarederror.\n",
            "[12:31:54] WARNING: /workspace/src/objective/regression_obj.cu:152: reg:linear is now deprecated in favor of reg:squarederror.\n",
            "[12:31:54] WARNING: /workspace/src/objective/regression_obj.cu:152: reg:linear is now deprecated in favor of reg:squarederror.\n",
            "[12:31:54] WARNING: /workspace/src/objective/regression_obj.cu:152: reg:linear is now deprecated in favor of reg:squarederror.\n",
            "[12:31:54] WARNING: /workspace/src/objective/regression_obj.cu:152: reg:linear is now deprecated in favor of reg:squarederror.\n",
            "[12:31:54] WARNING: /workspace/src/objective/regression_obj.cu:152: reg:linear is now deprecated in favor of reg:squarederror.\n",
            "[12:31:54] WARNING: /workspace/src/objective/regression_obj.cu:152: reg:linear is now deprecated in favor of reg:squarederror.\n",
            "[12:31:54] WARNING: /workspace/src/objective/regression_obj.cu:152: reg:linear is now deprecated in favor of reg:squarederror.\n",
            "[12:31:54] WARNING: /workspace/src/objective/regression_obj.cu:152: reg:linear is now deprecated in favor of reg:squarederror.\n",
            "[12:31:54] WARNING: /workspace/src/objective/regression_obj.cu:152: reg:linear is now deprecated in favor of reg:squarederror.\n",
            "[12:31:54] WARNING: /workspace/src/objective/regression_obj.cu:152: reg:linear is now deprecated in favor of reg:squarederror.\n",
            "[12:31:54] WARNING: /workspace/src/objective/regression_obj.cu:152: reg:linear is now deprecated in favor of reg:squarederror.\n",
            "[12:31:54] WARNING: /workspace/src/objective/regression_obj.cu:152: reg:linear is now deprecated in favor of reg:squarederror.\n",
            "[12:31:54] WARNING: /workspace/src/objective/regression_obj.cu:152: reg:linear is now deprecated in favor of reg:squarederror.\n",
            "[12:31:54] WARNING: /workspace/src/objective/regression_obj.cu:152: reg:linear is now deprecated in favor of reg:squarederror.\n",
            "[12:31:55] WARNING: /workspace/src/objective/regression_obj.cu:152: reg:linear is now deprecated in favor of reg:squarederror.\n",
            "[12:31:55] WARNING: /workspace/src/objective/regression_obj.cu:152: reg:linear is now deprecated in favor of reg:squarederror.\n",
            "[12:31:55] WARNING: /workspace/src/objective/regression_obj.cu:152: reg:linear is now deprecated in favor of reg:squarederror.\n",
            "[12:31:55] WARNING: /workspace/src/objective/regression_obj.cu:152: reg:linear is now deprecated in favor of reg:squarederror.\n",
            "[12:31:55] WARNING: /workspace/src/objective/regression_obj.cu:152: reg:linear is now deprecated in favor of reg:squarederror.\n",
            "[12:31:55] WARNING: /workspace/src/objective/regression_obj.cu:152: reg:linear is now deprecated in favor of reg:squarederror.\n",
            "[12:31:55] WARNING: /workspace/src/objective/regression_obj.cu:152: reg:linear is now deprecated in favor of reg:squarederror.\n",
            "[12:31:55] WARNING: /workspace/src/objective/regression_obj.cu:152: reg:linear is now deprecated in favor of reg:squarederror.\n",
            "[12:31:55] WARNING: /workspace/src/objective/regression_obj.cu:152: reg:linear is now deprecated in favor of reg:squarederror.\n",
            "[12:31:55] WARNING: /workspace/src/objective/regression_obj.cu:152: reg:linear is now deprecated in favor of reg:squarederror.\n",
            "[12:31:55] WARNING: /workspace/src/objective/regression_obj.cu:152: reg:linear is now deprecated in favor of reg:squarederror.\n",
            "[12:31:55] WARNING: /workspace/src/objective/regression_obj.cu:152: reg:linear is now deprecated in favor of reg:squarederror.\n",
            "[12:31:55] WARNING: /workspace/src/objective/regression_obj.cu:152: reg:linear is now deprecated in favor of reg:squarederror.\n",
            "[12:31:55] WARNING: /workspace/src/objective/regression_obj.cu:152: reg:linear is now deprecated in favor of reg:squarederror.\n",
            "[12:31:55] WARNING: /workspace/src/objective/regression_obj.cu:152: reg:linear is now deprecated in favor of reg:squarederror.\n",
            "[12:31:55] WARNING: /workspace/src/objective/regression_obj.cu:152: reg:linear is now deprecated in favor of reg:squarederror.\n",
            "[12:31:55] WARNING: /workspace/src/objective/regression_obj.cu:152: reg:linear is now deprecated in favor of reg:squarederror.\n",
            "[12:31:55] WARNING: /workspace/src/objective/regression_obj.cu:152: reg:linear is now deprecated in favor of reg:squarederror.\n",
            "[12:31:55] WARNING: /workspace/src/objective/regression_obj.cu:152: reg:linear is now deprecated in favor of reg:squarederror.\n",
            "[12:31:55] WARNING: /workspace/src/objective/regression_obj.cu:152: reg:linear is now deprecated in favor of reg:squarederror.\n",
            "...Done.\n"
          ]
        }
      ]
    },
    {
      "cell_type": "code",
      "source": [
        "print(\"Best hyperparameters : \", gridsearch_xgb.best_params_)\n",
        "print(\"Best validation accuracy : \", gridsearch_xgb.best_score_)"
      ],
      "metadata": {
        "colab": {
          "base_uri": "https://localhost:8080/"
        },
        "id": "UWrSKi7nXyeK",
        "outputId": "f4d18fab-8db6-4f94-a94d-3bd7665a7091"
      },
      "id": "UWrSKi7nXyeK",
      "execution_count": 170,
      "outputs": [
        {
          "output_type": "stream",
          "name": "stdout",
          "text": [
            "Best hyperparameters :  {'n_estimators': 15}\n",
            "Best validation accuracy :  -0.022905749915793507\n"
          ]
        }
      ]
    },
    {
      "cell_type": "code",
      "source": [
        "best_model_xgb = gridsearch_xgb.best_estimator_\n",
        "best_model_xgb"
      ],
      "metadata": {
        "colab": {
          "base_uri": "https://localhost:8080/"
        },
        "id": "PGzZ6mvVX1Et",
        "outputId": "fa6680b6-620a-47fe-c9ef-623289a0af66"
      },
      "id": "PGzZ6mvVX1Et",
      "execution_count": 171,
      "outputs": [
        {
          "output_type": "execute_result",
          "data": {
            "text/plain": [
              "XGBRegressor(n_estimators=15)"
            ]
          },
          "metadata": {},
          "execution_count": 171
        }
      ]
    },
    {
      "cell_type": "code",
      "source": [
        "y_train_pred = best_model_xgb.predict(X_train)\n",
        "y_test_pred = best_model_xgb.predict(X_test)"
      ],
      "metadata": {
        "id": "Tcdbfo8XefJI"
      },
      "id": "Tcdbfo8XefJI",
      "execution_count": 172,
      "outputs": []
    },
    {
      "cell_type": "code",
      "source": [
        "print(\"R2 score on training set : \", r2_score(y_train, y_train_pred))\n",
        "print(\"R2 score on test set : \", r2_score(y_test, y_test_pred))"
      ],
      "metadata": {
        "colab": {
          "base_uri": "https://localhost:8080/"
        },
        "id": "AnaV2HibYMKr",
        "outputId": "7dbd471f-5a59-4f95-baaf-a3618363b383"
      },
      "id": "AnaV2HibYMKr",
      "execution_count": 173,
      "outputs": [
        {
          "output_type": "stream",
          "name": "stdout",
          "text": [
            "R2 score on training set :  0.14212807228879054\n",
            "R2 score on test set :  -0.03435318664348186\n"
          ]
        }
      ]
    },
    {
      "cell_type": "code",
      "source": [
        ""
      ],
      "metadata": {
        "id": "ScqS4wanhKEh"
      },
      "id": "ScqS4wanhKEh",
      "execution_count": 173,
      "outputs": []
    },
    {
      "cell_type": "markdown",
      "source": [
        "# Tensorflow Sequential"
      ],
      "metadata": {
        "id": "7WS_R6CGhL9T"
      },
      "id": "7WS_R6CGhL9T"
    },
    {
      "cell_type": "code",
      "source": [
        "import tensorflow as tf\n",
        "from tensorflow.keras import layers\n",
        "from tensorflow.keras import models\n",
        "from tensorflow.keras.metrics import MeanSquaredError, RootMeanSquaredError \n",
        "from tensorflow.keras.losses import MeanSquaredError, MeanSquaredLogarithmicError"
      ],
      "metadata": {
        "id": "9jdW7d-hPsYq"
      },
      "id": "9jdW7d-hPsYq",
      "execution_count": 174,
      "outputs": []
    },
    {
      "cell_type": "code",
      "source": [
        "train = tf.data.Dataset.from_tensor_slices((X_train, y_train))\n",
        "val = tf.data.Dataset.from_tensor_slices((X_test, y_test))"
      ],
      "metadata": {
        "id": "L0sJPI0yPuGh"
      },
      "id": "L0sJPI0yPuGh",
      "execution_count": 175,
      "outputs": []
    },
    {
      "cell_type": "code",
      "source": [
        "train_batch = train.shuffle(len(X_train)).batch(16)\n",
        "val_batch = val.shuffle(len(X_test)).batch(16)"
      ],
      "metadata": {
        "id": "kqoX2wCUPvoQ"
      },
      "id": "kqoX2wCUPvoQ",
      "execution_count": 176,
      "outputs": []
    },
    {
      "cell_type": "code",
      "source": [
        "input_shape = X_train.shape[1:]\n",
        "model = models.Sequential()\n",
        "model.add(layers.InputLayer(input_shape=input_shape))\n",
        "model.add(layers.Dense(16, 'relu'))\n",
        "model.add(layers.BatchNormalization())\n",
        "model.add(layers.Dropout(0.2))\n",
        "model.add(layers.Dense(8, 'relu'))\n",
        "model.add(layers.BatchNormalization()),\n",
        "model.add(layers.Dropout(0.2)),\n",
        "model.add(layers.Dense(4, 'relu'))\n",
        "#model.add(layers.Dense(2, 'relu'))\n",
        "model.add(layers.Dense(1))"
      ],
      "metadata": {
        "id": "79ERVrFpPw-p"
      },
      "id": "79ERVrFpPw-p",
      "execution_count": 177,
      "outputs": []
    },
    {
      "cell_type": "code",
      "source": [
        "model.summary()"
      ],
      "metadata": {
        "colab": {
          "base_uri": "https://localhost:8080/"
        },
        "id": "LEPy4AR_P0ow",
        "outputId": "90383c20-4553-4e87-e337-421ccd82b9a7"
      },
      "id": "LEPy4AR_P0ow",
      "execution_count": 178,
      "outputs": [
        {
          "output_type": "stream",
          "name": "stdout",
          "text": [
            "Model: \"sequential_3\"\n",
            "_________________________________________________________________\n",
            " Layer (type)                Output Shape              Param #   \n",
            "=================================================================\n",
            " dense_12 (Dense)            (None, 16)                128       \n",
            "                                                                 \n",
            " batch_normalization_6 (Batc  (None, 16)               64        \n",
            " hNormalization)                                                 \n",
            "                                                                 \n",
            " dropout_6 (Dropout)         (None, 16)                0         \n",
            "                                                                 \n",
            " dense_13 (Dense)            (None, 8)                 136       \n",
            "                                                                 \n",
            " batch_normalization_7 (Batc  (None, 8)                32        \n",
            " hNormalization)                                                 \n",
            "                                                                 \n",
            " dropout_7 (Dropout)         (None, 8)                 0         \n",
            "                                                                 \n",
            " dense_14 (Dense)            (None, 4)                 36        \n",
            "                                                                 \n",
            " dense_15 (Dense)            (None, 1)                 5         \n",
            "                                                                 \n",
            "=================================================================\n",
            "Total params: 401\n",
            "Trainable params: 353\n",
            "Non-trainable params: 48\n",
            "_________________________________________________________________\n"
          ]
        }
      ]
    },
    {
      "cell_type": "code",
      "source": [
        "model.compile(\n",
        "    optimizer='adam',\n",
        "    loss=MeanSquaredLogarithmicError(),\n",
        "    metrics=[RootMeanSquaredError()]\n",
        ")"
      ],
      "metadata": {
        "id": "-I_IbqImPyxn"
      },
      "id": "-I_IbqImPyxn",
      "execution_count": 179,
      "outputs": []
    },
    {
      "cell_type": "code",
      "source": [
        "history = model.fit(train_batch, epochs=20, validation_data=val_batch)"
      ],
      "metadata": {
        "colab": {
          "base_uri": "https://localhost:8080/"
        },
        "id": "28SH4nYSP429",
        "outputId": "6d7bb344-6c21-4eaa-88e6-974ef07c7fde"
      },
      "id": "28SH4nYSP429",
      "execution_count": 180,
      "outputs": [
        {
          "output_type": "stream",
          "name": "stdout",
          "text": [
            "Epoch 1/20\n",
            "46/46 [==============================] - 1s 5ms/step - loss: 0.4206 - root_mean_squared_error: 2.4681 - val_loss: 0.3987 - val_root_mean_squared_error: 2.4464\n",
            "Epoch 2/20\n",
            "46/46 [==============================] - 0s 2ms/step - loss: 0.4255 - root_mean_squared_error: 2.4545 - val_loss: 0.3947 - val_root_mean_squared_error: 2.4476\n",
            "Epoch 3/20\n",
            "46/46 [==============================] - 0s 2ms/step - loss: 0.4061 - root_mean_squared_error: 2.3829 - val_loss: 0.3754 - val_root_mean_squared_error: 2.4524\n",
            "Epoch 4/20\n",
            "46/46 [==============================] - 0s 2ms/step - loss: 0.4004 - root_mean_squared_error: 2.3930 - val_loss: 0.3564 - val_root_mean_squared_error: 2.4645\n",
            "Epoch 5/20\n",
            "46/46 [==============================] - 0s 2ms/step - loss: 0.3955 - root_mean_squared_error: 2.3706 - val_loss: 0.3479 - val_root_mean_squared_error: 2.4738\n",
            "Epoch 6/20\n",
            "46/46 [==============================] - 0s 2ms/step - loss: 0.3673 - root_mean_squared_error: 2.3180 - val_loss: 0.3488 - val_root_mean_squared_error: 2.4867\n",
            "Epoch 7/20\n",
            "46/46 [==============================] - 0s 2ms/step - loss: 0.3827 - root_mean_squared_error: 2.3152 - val_loss: 0.3559 - val_root_mean_squared_error: 2.4874\n",
            "Epoch 8/20\n",
            "46/46 [==============================] - 0s 2ms/step - loss: 0.3759 - root_mean_squared_error: 2.3037 - val_loss: 0.3515 - val_root_mean_squared_error: 2.4882\n",
            "Epoch 9/20\n",
            "46/46 [==============================] - 0s 2ms/step - loss: 0.3633 - root_mean_squared_error: 2.2751 - val_loss: 0.3527 - val_root_mean_squared_error: 2.4947\n",
            "Epoch 10/20\n",
            "46/46 [==============================] - 0s 2ms/step - loss: 0.3766 - root_mean_squared_error: 2.2834 - val_loss: 0.3479 - val_root_mean_squared_error: 2.5019\n",
            "Epoch 11/20\n",
            "46/46 [==============================] - 0s 2ms/step - loss: 0.3523 - root_mean_squared_error: 2.2702 - val_loss: 0.3379 - val_root_mean_squared_error: 2.4927\n",
            "Epoch 12/20\n",
            "46/46 [==============================] - 0s 2ms/step - loss: 0.3615 - root_mean_squared_error: 2.2570 - val_loss: 0.3254 - val_root_mean_squared_error: 2.4904\n",
            "Epoch 13/20\n",
            "46/46 [==============================] - 0s 2ms/step - loss: 0.3410 - root_mean_squared_error: 2.2541 - val_loss: 0.3263 - val_root_mean_squared_error: 2.4897\n",
            "Epoch 14/20\n",
            "46/46 [==============================] - 0s 2ms/step - loss: 0.3460 - root_mean_squared_error: 2.2471 - val_loss: 0.3150 - val_root_mean_squared_error: 2.4821\n",
            "Epoch 15/20\n",
            "46/46 [==============================] - 0s 2ms/step - loss: 0.3414 - root_mean_squared_error: 2.2484 - val_loss: 0.3146 - val_root_mean_squared_error: 2.4896\n",
            "Epoch 16/20\n",
            "46/46 [==============================] - 0s 2ms/step - loss: 0.3295 - root_mean_squared_error: 2.2238 - val_loss: 0.3111 - val_root_mean_squared_error: 2.4904\n",
            "Epoch 17/20\n",
            "46/46 [==============================] - 0s 2ms/step - loss: 0.3210 - root_mean_squared_error: 2.2060 - val_loss: 0.3107 - val_root_mean_squared_error: 2.4977\n",
            "Epoch 18/20\n",
            "46/46 [==============================] - 0s 2ms/step - loss: 0.3248 - root_mean_squared_error: 2.2180 - val_loss: 0.3092 - val_root_mean_squared_error: 2.5035\n",
            "Epoch 19/20\n",
            "46/46 [==============================] - 0s 2ms/step - loss: 0.3257 - root_mean_squared_error: 2.2140 - val_loss: 0.3062 - val_root_mean_squared_error: 2.5040\n",
            "Epoch 20/20\n",
            "46/46 [==============================] - 0s 2ms/step - loss: 0.3345 - root_mean_squared_error: 2.2543 - val_loss: 0.3020 - val_root_mean_squared_error: 2.5006\n"
          ]
        }
      ]
    },
    {
      "cell_type": "code",
      "source": [
        "history_df = pd.DataFrame(history.history)\n",
        "history_df.loc[0:, ['loss', 'val_loss']].plot()\n",
        "print(\"Minimum Validation Loss: {:0.4f}\".format(history_df['val_loss'].min()));"
      ],
      "metadata": {
        "colab": {
          "base_uri": "https://localhost:8080/",
          "height": 300
        },
        "id": "wfRPsKE7P7-P",
        "outputId": "848cb394-c89f-44f7-c0af-41ba72159e5b"
      },
      "id": "wfRPsKE7P7-P",
      "execution_count": 181,
      "outputs": [
        {
          "output_type": "stream",
          "name": "stdout",
          "text": [
            "Minimum Validation Loss: 0.3020\n"
          ]
        },
        {
          "output_type": "display_data",
          "data": {
            "text/plain": [
              "<Figure size 432x288 with 1 Axes>"
            ],
            "image/png": "[encoded data removed]"
          },
          "metadata": {}
        }
      ]
    },
    {
      "cell_type": "code",
      "source": [
        "history_df = pd.DataFrame(history.history)\n",
        "history_df.loc[0:, ['root_mean_squared_error', 'val_root_mean_squared_error']].plot()\n",
        "print(\"Minimum Validation Loss: {:0.4f}\".format(history_df['val_root_mean_squared_error'].min()));"
      ],
      "metadata": {
        "colab": {
          "base_uri": "https://localhost:8080/",
          "height": 300
        },
        "id": "CCeh3Hr8P9gJ",
        "outputId": "2d92dc99-6418-42e1-eae1-de1e2a3d4939"
      },
      "id": "CCeh3Hr8P9gJ",
      "execution_count": 182,
      "outputs": [
        {
          "output_type": "stream",
          "name": "stdout",
          "text": [
            "Minimum Validation Loss: 2.4464\n"
          ]
        },
        {
          "output_type": "display_data",
          "data": {
            "text/plain": [
              "<Figure size 432x288 with 1 Axes>"
            ],
            "image/png": "[encoded data removed]"
          },
          "metadata": {}
        }
      ]
    },
    {
      "cell_type": "code",
      "source": [
        "print(\"R2 score on training set : \", r2_score(y_train, model.predict(X_train)))\n",
        "print(\"R2 score on test set : \", r2_score(y_test, model.predict(X_test)))"
      ],
      "metadata": {
        "colab": {
          "base_uri": "https://localhost:8080/"
        },
        "id": "V3zIqZyGP_aL",
        "outputId": "1a049777-e2d4-49e2-e139-cd858f1f7640"
      },
      "id": "V3zIqZyGP_aL",
      "execution_count": 183,
      "outputs": [
        {
          "output_type": "stream",
          "name": "stdout",
          "text": [
            "R2 score on training set :  -0.04814860864835735\n",
            "R2 score on test set :  -0.04814498431297265\n"
          ]
        }
      ]
    }
  ],
  "metadata": {
    "kernelspec": {
      "display_name": "Python 3 (ipykernel)",
      "language": "python",
      "name": "python3"
    },
    "language_info": {
      "codemirror_mode": {
        "name": "ipython",
        "version": 3
      },
      "file_extension": ".py",
      "mimetype": "text/x-python",
      "name": "python",
      "nbconvert_exporter": "python",
      "pygments_lexer": "ipython3",
      "version": "3.9.7"
    },
    "colab": {
      "name": "All models_ubisoft_dataset.ipynb",
      "provenance": [],
      "collapsed_sections": []
    }
  },
  "nbformat": 4,
  "nbformat_minor": 5
}