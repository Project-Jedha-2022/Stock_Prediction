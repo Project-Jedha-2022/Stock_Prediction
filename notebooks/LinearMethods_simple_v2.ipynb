{
 "cells": [
  {
   "cell_type": "code",
   "execution_count": 1,
   "id": "ab6af6c6-99e9-48df-ab22-a90978efe1f8",
   "metadata": {},
   "outputs": [],
   "source": [
    "import pandas as pd\n"
   ]
  },
  {
   "cell_type": "code",
   "execution_count": 2,
   "id": "2c9156e8-b7e5-476f-b8fd-64bd143b7142",
   "metadata": {},
   "outputs": [],
   "source": [
    "df = pd.read_csv('dataset_social_technical_1d.csv')"
   ]
  },
  {
   "cell_type": "code",
   "execution_count": 3,
   "id": "58c7d82f-013c-4edb-b9be-cf9fe070631b",
   "metadata": {},
   "outputs": [
    {
     "data": {
      "text/html": [
       "<div>\n",
       "<style scoped>\n",
       "    .dataframe tbody tr th:only-of-type {\n",
       "        vertical-align: middle;\n",
       "    }\n",
       "\n",
       "    .dataframe tbody tr th {\n",
       "        vertical-align: top;\n",
       "    }\n",
       "\n",
       "    .dataframe thead th {\n",
       "        text-align: right;\n",
       "    }\n",
       "</style>\n",
       "<table border=\"1\" class=\"dataframe\">\n",
       "  <thead>\n",
       "    <tr style=\"text-align: right;\">\n",
       "      <th></th>\n",
       "      <th>date</th>\n",
       "      <th>SMA_ratio</th>\n",
       "      <th>SMA_Volume_Ratio</th>\n",
       "      <th>Stochastic_15</th>\n",
       "      <th>Stochastic_Ratio</th>\n",
       "      <th>RSI_15</th>\n",
       "      <th>RSI_ratio</th>\n",
       "      <th>MACD</th>\n",
       "      <th>price_pct_variation</th>\n",
       "      <th>title_vader_compound</th>\n",
       "      <th>title_roberta_neg</th>\n",
       "      <th>title_roberta_neu</th>\n",
       "      <th>title_roberta_pos</th>\n",
       "    </tr>\n",
       "  </thead>\n",
       "  <tbody>\n",
       "    <tr>\n",
       "      <th>0</th>\n",
       "      <td>02/01/2017</td>\n",
       "      <td>0.977920</td>\n",
       "      <td>0.492545</td>\n",
       "      <td>97.353507</td>\n",
       "      <td>1.120103</td>\n",
       "      <td>72.819253</td>\n",
       "      <td>1.203449</td>\n",
       "      <td>-0.581692</td>\n",
       "      <td>0.005325</td>\n",
       "      <td>-0.16735</td>\n",
       "      <td>0.777352</td>\n",
       "      <td>0.212674</td>\n",
       "      <td>0.009974</td>\n",
       "    </tr>\n",
       "    <tr>\n",
       "      <th>1</th>\n",
       "      <td>03/01/2017</td>\n",
       "      <td>0.980867</td>\n",
       "      <td>0.742189</td>\n",
       "      <td>75.999927</td>\n",
       "      <td>0.982504</td>\n",
       "      <td>74.418628</td>\n",
       "      <td>0.745917</td>\n",
       "      <td>-0.467702</td>\n",
       "      <td>-0.012655</td>\n",
       "      <td>-0.15890</td>\n",
       "      <td>0.352967</td>\n",
       "      <td>0.593894</td>\n",
       "      <td>0.053139</td>\n",
       "    </tr>\n",
       "    <tr>\n",
       "      <th>2</th>\n",
       "      <td>04/01/2017</td>\n",
       "      <td>0.986854</td>\n",
       "      <td>0.853517</td>\n",
       "      <td>53.600042</td>\n",
       "      <td>0.811504</td>\n",
       "      <td>60.256465</td>\n",
       "      <td>0.399212</td>\n",
       "      <td>-0.265055</td>\n",
       "      <td>-0.016691</td>\n",
       "      <td>-0.17000</td>\n",
       "      <td>0.455775</td>\n",
       "      <td>0.529359</td>\n",
       "      <td>0.014867</td>\n",
       "    </tr>\n",
       "    <tr>\n",
       "      <th>3</th>\n",
       "      <td>05/01/2017</td>\n",
       "      <td>0.999960</td>\n",
       "      <td>1.239421</td>\n",
       "      <td>3.183555</td>\n",
       "      <td>0.595832</td>\n",
       "      <td>45.764364</td>\n",
       "      <td>0.145136</td>\n",
       "      <td>0.161075</td>\n",
       "      <td>-0.043195</td>\n",
       "      <td>0.44040</td>\n",
       "      <td>0.090196</td>\n",
       "      <td>0.465504</td>\n",
       "      <td>0.444300</td>\n",
       "    </tr>\n",
       "    <tr>\n",
       "      <th>4</th>\n",
       "      <td>06/01/2017</td>\n",
       "      <td>1.013771</td>\n",
       "      <td>1.492017</td>\n",
       "      <td>8.742321</td>\n",
       "      <td>0.412543</td>\n",
       "      <td>39.408387</td>\n",
       "      <td>0.153017</td>\n",
       "      <td>0.484190</td>\n",
       "      <td>-0.012355</td>\n",
       "      <td>0.09180</td>\n",
       "      <td>0.307789</td>\n",
       "      <td>0.220473</td>\n",
       "      <td>0.471738</td>\n",
       "    </tr>\n",
       "  </tbody>\n",
       "</table>\n",
       "</div>"
      ],
      "text/plain": [
       "         date  SMA_ratio  SMA_Volume_Ratio  Stochastic_15  Stochastic_Ratio  \\\n",
       "0  02/01/2017   0.977920          0.492545      97.353507          1.120103   \n",
       "1  03/01/2017   0.980867          0.742189      75.999927          0.982504   \n",
       "2  04/01/2017   0.986854          0.853517      53.600042          0.811504   \n",
       "3  05/01/2017   0.999960          1.239421       3.183555          0.595832   \n",
       "4  06/01/2017   1.013771          1.492017       8.742321          0.412543   \n",
       "\n",
       "      RSI_15  RSI_ratio      MACD  price_pct_variation  title_vader_compound  \\\n",
       "0  72.819253   1.203449 -0.581692             0.005325              -0.16735   \n",
       "1  74.418628   0.745917 -0.467702            -0.012655              -0.15890   \n",
       "2  60.256465   0.399212 -0.265055            -0.016691              -0.17000   \n",
       "3  45.764364   0.145136  0.161075            -0.043195               0.44040   \n",
       "4  39.408387   0.153017  0.484190            -0.012355               0.09180   \n",
       "\n",
       "   title_roberta_neg  title_roberta_neu  title_roberta_pos  \n",
       "0           0.777352           0.212674           0.009974  \n",
       "1           0.352967           0.593894           0.053139  \n",
       "2           0.455775           0.529359           0.014867  \n",
       "3           0.090196           0.465504           0.444300  \n",
       "4           0.307789           0.220473           0.471738  "
      ]
     },
     "execution_count": 3,
     "metadata": {},
     "output_type": "execute_result"
    }
   ],
   "source": [
    "df.head()"
   ]
  },
  {
   "cell_type": "code",
   "execution_count": 4,
   "id": "08d021c6-53f3-4ca7-b546-501335a92efc",
   "metadata": {},
   "outputs": [],
   "source": [
    "import pandas as pd\n",
    "import numpy as np\n",
    "\n",
    "from sklearn.model_selection import train_test_split\n",
    "from sklearn.pipeline import Pipeline\n",
    "from sklearn.impute import SimpleImputer\n",
    "from sklearn.preprocessing import  OneHotEncoder, StandardScaler\n",
    "from sklearn.compose import ColumnTransformer\n",
    "from sklearn.linear_model import LinearRegression\n",
    "from sklearn.metrics import r2_score\n",
    "\n",
    "import plotly.express as px\n",
    "import plotly.graph_objects as go\n",
    "import plotly.io as pio\n",
    "# setting Jedha color palette as default\n",
    "pio.templates[\"jedha\"] = go.layout.Template(\n",
    "    layout_colorway=[\"#4B9AC7\", \"#4BE8E0\", \"#9DD4F3\", \"#97FBF6\", \"#2A7FAF\", \"#23B1AB\", \"#0E3449\", \"#015955\"]\n",
    ")\n",
    "pio.templates.default = \"jedha\"\n",
    "pio.renderers.default = \"iframe\" # to be replaced by \"iframe\" if working on JULIE"
   ]
  },
  {
   "cell_type": "code",
   "execution_count": 5,
   "id": "455cacd0-be77-4634-b71e-3bea62d74462",
   "metadata": {},
   "outputs": [],
   "source": [
    "num_features = df.loc[:, df.columns != 'date'].columns"
   ]
  },
  {
   "cell_type": "code",
   "execution_count": 6,
   "id": "794747ab-3d56-42d3-b76b-49b7c9f10949",
   "metadata": {},
   "outputs": [
    {
     "data": {
      "text/plain": [
       "Index(['SMA_ratio', 'SMA_Volume_Ratio', 'Stochastic_15', 'Stochastic_Ratio',\n",
       "       'RSI_15', 'RSI_ratio', 'MACD', 'price_pct_variation',\n",
       "       'title_vader_compound', 'title_roberta_neg', 'title_roberta_neu',\n",
       "       'title_roberta_pos'],\n",
       "      dtype='object')"
      ]
     },
     "execution_count": 6,
     "metadata": {},
     "output_type": "execute_result"
    }
   ],
   "source": [
    "num_features"
   ]
  },
  {
   "cell_type": "code",
   "execution_count": 7,
   "id": "ad13d9db-e7a7-468d-85d1-3d4d7e62e638",
   "metadata": {},
   "outputs": [
    {
     "name": "stdout",
     "output_type": "stream",
     "text": [
      "SMA_ratio\n"
     ]
    },
    {
     "name": "stdin",
     "output_type": "stream",
     "text": [
      " y\n"
     ]
    },
    {
     "data": {
      "text/html": [
       "<iframe\n",
       "    scrolling=\"no\"\n",
       "    width=\"100%\"\n",
       "    height=\"545px\"\n",
       "    src=\"iframe_figures/figure_7.html\"\n",
       "    frameborder=\"0\"\n",
       "    allowfullscreen\n",
       "></iframe>\n"
      ]
     },
     "metadata": {},
     "output_type": "display_data"
    },
    {
     "name": "stdout",
     "output_type": "stream",
     "text": [
      "SMA_Volume_Ratio\n"
     ]
    },
    {
     "name": "stdin",
     "output_type": "stream",
     "text": [
      " y\n"
     ]
    },
    {
     "data": {
      "text/html": [
       "<iframe\n",
       "    scrolling=\"no\"\n",
       "    width=\"100%\"\n",
       "    height=\"545px\"\n",
       "    src=\"iframe_figures/figure_7.html\"\n",
       "    frameborder=\"0\"\n",
       "    allowfullscreen\n",
       "></iframe>\n"
      ]
     },
     "metadata": {},
     "output_type": "display_data"
    },
    {
     "name": "stdout",
     "output_type": "stream",
     "text": [
      "Stochastic_15\n"
     ]
    },
    {
     "name": "stdin",
     "output_type": "stream",
     "text": [
      " y\n"
     ]
    },
    {
     "data": {
      "text/html": [
       "<iframe\n",
       "    scrolling=\"no\"\n",
       "    width=\"100%\"\n",
       "    height=\"545px\"\n",
       "    src=\"iframe_figures/figure_7.html\"\n",
       "    frameborder=\"0\"\n",
       "    allowfullscreen\n",
       "></iframe>\n"
      ]
     },
     "metadata": {},
     "output_type": "display_data"
    },
    {
     "name": "stdout",
     "output_type": "stream",
     "text": [
      "Stochastic_Ratio\n"
     ]
    },
    {
     "name": "stdin",
     "output_type": "stream",
     "text": [
      " y\n"
     ]
    },
    {
     "data": {
      "text/html": [
       "<iframe\n",
       "    scrolling=\"no\"\n",
       "    width=\"100%\"\n",
       "    height=\"545px\"\n",
       "    src=\"iframe_figures/figure_7.html\"\n",
       "    frameborder=\"0\"\n",
       "    allowfullscreen\n",
       "></iframe>\n"
      ]
     },
     "metadata": {},
     "output_type": "display_data"
    },
    {
     "name": "stdout",
     "output_type": "stream",
     "text": [
      "RSI_15\n"
     ]
    },
    {
     "name": "stdin",
     "output_type": "stream",
     "text": [
      " y\n"
     ]
    },
    {
     "data": {
      "text/html": [
       "<iframe\n",
       "    scrolling=\"no\"\n",
       "    width=\"100%\"\n",
       "    height=\"545px\"\n",
       "    src=\"iframe_figures/figure_7.html\"\n",
       "    frameborder=\"0\"\n",
       "    allowfullscreen\n",
       "></iframe>\n"
      ]
     },
     "metadata": {},
     "output_type": "display_data"
    },
    {
     "name": "stdout",
     "output_type": "stream",
     "text": [
      "RSI_ratio\n"
     ]
    },
    {
     "name": "stdin",
     "output_type": "stream",
     "text": [
      " y\n"
     ]
    },
    {
     "data": {
      "text/html": [
       "<iframe\n",
       "    scrolling=\"no\"\n",
       "    width=\"100%\"\n",
       "    height=\"545px\"\n",
       "    src=\"iframe_figures/figure_7.html\"\n",
       "    frameborder=\"0\"\n",
       "    allowfullscreen\n",
       "></iframe>\n"
      ]
     },
     "metadata": {},
     "output_type": "display_data"
    },
    {
     "name": "stdout",
     "output_type": "stream",
     "text": [
      "MACD\n"
     ]
    },
    {
     "name": "stdin",
     "output_type": "stream",
     "text": [
      " y\n"
     ]
    },
    {
     "data": {
      "text/html": [
       "<iframe\n",
       "    scrolling=\"no\"\n",
       "    width=\"100%\"\n",
       "    height=\"545px\"\n",
       "    src=\"iframe_figures/figure_7.html\"\n",
       "    frameborder=\"0\"\n",
       "    allowfullscreen\n",
       "></iframe>\n"
      ]
     },
     "metadata": {},
     "output_type": "display_data"
    },
    {
     "name": "stdout",
     "output_type": "stream",
     "text": [
      "price_pct_variation\n"
     ]
    },
    {
     "name": "stdin",
     "output_type": "stream",
     "text": [
      " y\n"
     ]
    },
    {
     "data": {
      "text/html": [
       "<iframe\n",
       "    scrolling=\"no\"\n",
       "    width=\"100%\"\n",
       "    height=\"545px\"\n",
       "    src=\"iframe_figures/figure_7.html\"\n",
       "    frameborder=\"0\"\n",
       "    allowfullscreen\n",
       "></iframe>\n"
      ]
     },
     "metadata": {},
     "output_type": "display_data"
    },
    {
     "name": "stdout",
     "output_type": "stream",
     "text": [
      "title_vader_compound\n"
     ]
    },
    {
     "name": "stdin",
     "output_type": "stream",
     "text": [
      " y\n"
     ]
    },
    {
     "data": {
      "text/html": [
       "<iframe\n",
       "    scrolling=\"no\"\n",
       "    width=\"100%\"\n",
       "    height=\"545px\"\n",
       "    src=\"iframe_figures/figure_7.html\"\n",
       "    frameborder=\"0\"\n",
       "    allowfullscreen\n",
       "></iframe>\n"
      ]
     },
     "metadata": {},
     "output_type": "display_data"
    },
    {
     "name": "stdout",
     "output_type": "stream",
     "text": [
      "title_roberta_neg\n"
     ]
    },
    {
     "name": "stdin",
     "output_type": "stream",
     "text": [
      " y\n"
     ]
    },
    {
     "data": {
      "text/html": [
       "<iframe\n",
       "    scrolling=\"no\"\n",
       "    width=\"100%\"\n",
       "    height=\"545px\"\n",
       "    src=\"iframe_figures/figure_7.html\"\n",
       "    frameborder=\"0\"\n",
       "    allowfullscreen\n",
       "></iframe>\n"
      ]
     },
     "metadata": {},
     "output_type": "display_data"
    },
    {
     "name": "stdout",
     "output_type": "stream",
     "text": [
      "title_roberta_neu\n"
     ]
    },
    {
     "name": "stdin",
     "output_type": "stream",
     "text": [
      " y\n"
     ]
    },
    {
     "data": {
      "text/html": [
       "<iframe\n",
       "    scrolling=\"no\"\n",
       "    width=\"100%\"\n",
       "    height=\"545px\"\n",
       "    src=\"iframe_figures/figure_7.html\"\n",
       "    frameborder=\"0\"\n",
       "    allowfullscreen\n",
       "></iframe>\n"
      ]
     },
     "metadata": {},
     "output_type": "display_data"
    },
    {
     "name": "stdout",
     "output_type": "stream",
     "text": [
      "title_roberta_pos\n"
     ]
    },
    {
     "name": "stdin",
     "output_type": "stream",
     "text": [
      " y\n"
     ]
    },
    {
     "data": {
      "text/html": [
       "<iframe\n",
       "    scrolling=\"no\"\n",
       "    width=\"100%\"\n",
       "    height=\"545px\"\n",
       "    src=\"iframe_figures/figure_7.html\"\n",
       "    frameborder=\"0\"\n",
       "    allowfullscreen\n",
       "></iframe>\n"
      ]
     },
     "metadata": {},
     "output_type": "display_data"
    }
   ],
   "source": [
    "for sz in num_features:\n",
    "    print(sz)\n",
    "    fig = px.histogram(df[sz])\n",
    "    c = input('')\n",
    "    fig.show()\n",
    "    "
   ]
  },
  {
   "cell_type": "code",
   "execution_count": 8,
   "id": "6df30648-52c7-4f41-a7a4-e0377d1a23d4",
   "metadata": {},
   "outputs": [],
   "source": [
    "corr_matrix = df.corr().round(2)\n"
   ]
  },
  {
   "cell_type": "code",
   "execution_count": 9,
   "id": "4100a80e-6d3f-4b23-b80b-cbba10a6fd72",
   "metadata": {},
   "outputs": [
    {
     "data": {
      "text/html": [
       "<iframe\n",
       "    scrolling=\"no\"\n",
       "    width=\"100%\"\n",
       "    height=\"545px\"\n",
       "    src=\"iframe_figures/figure_9.html\"\n",
       "    frameborder=\"0\"\n",
       "    allowfullscreen\n",
       "></iframe>\n"
      ]
     },
     "metadata": {},
     "output_type": "display_data"
    }
   ],
   "source": [
    "import plotly.figure_factory as ff\n",
    "fig = ff.create_annotated_heatmap(corr_matrix.values,\n",
    "                                  x = corr_matrix.columns.tolist(),\n",
    "                                  y = corr_matrix.index.tolist())\n",
    "fig.show()\n"
   ]
  },
  {
   "cell_type": "code",
   "execution_count": 10,
   "id": "b66a01ab-0edc-4cbd-a43d-7357568b2e89",
   "metadata": {},
   "outputs": [
    {
     "data": {
      "text/plain": [
       "['price_pct_variation']"
      ]
     },
     "execution_count": 10,
     "metadata": {},
     "output_type": "execute_result"
    }
   ],
   "source": [
    "features_list = num_features\n",
    "features_list = ['SMA_ratio', 'Stochastic_15', 'Stochastic_Ratio', 'RSI_15', 'MACD', 'title_vader_compound']\n",
    "\n",
    "target_variable = ['price_pct_variation']\n",
    "\n",
    "features_list\n",
    "target_variable"
   ]
  },
  {
   "cell_type": "code",
   "execution_count": 11,
   "id": "45ea59f3-652d-495a-8e91-e1053357c4e3",
   "metadata": {},
   "outputs": [
    {
     "data": {
      "text/plain": [
       "['SMA_ratio',\n",
       " 'Stochastic_15',\n",
       " 'Stochastic_Ratio',\n",
       " 'RSI_15',\n",
       " 'MACD',\n",
       " 'title_vader_compound']"
      ]
     },
     "execution_count": 11,
     "metadata": {},
     "output_type": "execute_result"
    }
   ],
   "source": [
    "features_list"
   ]
  },
  {
   "cell_type": "code",
   "execution_count": 12,
   "id": "34765c01-6f88-4ace-a19e-2c4ac9537b9d",
   "metadata": {},
   "outputs": [
    {
     "data": {
      "text/plain": [
       "['price_pct_variation']"
      ]
     },
     "execution_count": 12,
     "metadata": {},
     "output_type": "execute_result"
    }
   ],
   "source": [
    "target_variable"
   ]
  },
  {
   "cell_type": "code",
   "execution_count": 13,
   "id": "1b9f33e1-87bd-47ef-bac1-7844597f446b",
   "metadata": {},
   "outputs": [],
   "source": [
    "X = df.loc[:, features_list]\n",
    "y = df.loc[:, target_variable]\n"
   ]
  },
  {
   "cell_type": "code",
   "execution_count": 14,
   "id": "694715a5-bf1b-4a0e-b83e-482865e62274",
   "metadata": {},
   "outputs": [],
   "source": [
    "X_train, X_test, y_train, y_test = train_test_split(X, y, test_size = 0.2, random_state=0)"
   ]
  },
  {
   "cell_type": "code",
   "execution_count": 15,
   "id": "c13bc84d-0b10-4fc2-b30a-c0510eb4bccc",
   "metadata": {},
   "outputs": [
    {
     "data": {
      "text/html": [
       "<div>\n",
       "<style scoped>\n",
       "    .dataframe tbody tr th:only-of-type {\n",
       "        vertical-align: middle;\n",
       "    }\n",
       "\n",
       "    .dataframe tbody tr th {\n",
       "        vertical-align: top;\n",
       "    }\n",
       "\n",
       "    .dataframe thead th {\n",
       "        text-align: right;\n",
       "    }\n",
       "</style>\n",
       "<table border=\"1\" class=\"dataframe\">\n",
       "  <thead>\n",
       "    <tr style=\"text-align: right;\">\n",
       "      <th></th>\n",
       "      <th>SMA_ratio</th>\n",
       "      <th>Stochastic_15</th>\n",
       "      <th>Stochastic_Ratio</th>\n",
       "      <th>RSI_15</th>\n",
       "      <th>MACD</th>\n",
       "      <th>title_vader_compound</th>\n",
       "    </tr>\n",
       "  </thead>\n",
       "  <tbody>\n",
       "    <tr>\n",
       "      <th>333</th>\n",
       "      <td>1.093056</td>\n",
       "      <td>3.846117</td>\n",
       "      <td>0.570785</td>\n",
       "      <td>25.952040</td>\n",
       "      <td>4.105239</td>\n",
       "      <td>0.106067</td>\n",
       "    </tr>\n",
       "    <tr>\n",
       "      <th>317</th>\n",
       "      <td>0.965982</td>\n",
       "      <td>76.801406</td>\n",
       "      <td>0.797133</td>\n",
       "      <td>68.619795</td>\n",
       "      <td>-2.370400</td>\n",
       "      <td>-0.077200</td>\n",
       "    </tr>\n",
       "    <tr>\n",
       "      <th>974</th>\n",
       "      <td>1.049984</td>\n",
       "      <td>35.245876</td>\n",
       "      <td>0.609594</td>\n",
       "      <td>30.901306</td>\n",
       "      <td>1.468646</td>\n",
       "      <td>-0.124390</td>\n",
       "    </tr>\n",
       "    <tr>\n",
       "      <th>731</th>\n",
       "      <td>0.996851</td>\n",
       "      <td>41.975165</td>\n",
       "      <td>1.423084</td>\n",
       "      <td>42.553159</td>\n",
       "      <td>0.011529</td>\n",
       "      <td>0.004304</td>\n",
       "    </tr>\n",
       "    <tr>\n",
       "      <th>535</th>\n",
       "      <td>1.046541</td>\n",
       "      <td>6.037731</td>\n",
       "      <td>0.894880</td>\n",
       "      <td>24.189808</td>\n",
       "      <td>1.821725</td>\n",
       "      <td>0.040906</td>\n",
       "    </tr>\n",
       "  </tbody>\n",
       "</table>\n",
       "</div>"
      ],
      "text/plain": [
       "     SMA_ratio  Stochastic_15  Stochastic_Ratio     RSI_15      MACD  \\\n",
       "333   1.093056       3.846117          0.570785  25.952040  4.105239   \n",
       "317   0.965982      76.801406          0.797133  68.619795 -2.370400   \n",
       "974   1.049984      35.245876          0.609594  30.901306  1.468646   \n",
       "731   0.996851      41.975165          1.423084  42.553159  0.011529   \n",
       "535   1.046541       6.037731          0.894880  24.189808  1.821725   \n",
       "\n",
       "     title_vader_compound  \n",
       "333              0.106067  \n",
       "317             -0.077200  \n",
       "974             -0.124390  \n",
       "731              0.004304  \n",
       "535              0.040906  "
      ]
     },
     "execution_count": 15,
     "metadata": {},
     "output_type": "execute_result"
    }
   ],
   "source": [
    "X_train.head()"
   ]
  },
  {
   "cell_type": "code",
   "execution_count": 16,
   "id": "550aed15-6100-4349-8985-16e48191066c",
   "metadata": {},
   "outputs": [
    {
     "data": {
      "text/html": [
       "<div>\n",
       "<style scoped>\n",
       "    .dataframe tbody tr th:only-of-type {\n",
       "        vertical-align: middle;\n",
       "    }\n",
       "\n",
       "    .dataframe tbody tr th {\n",
       "        vertical-align: top;\n",
       "    }\n",
       "\n",
       "    .dataframe thead th {\n",
       "        text-align: right;\n",
       "    }\n",
       "</style>\n",
       "<table border=\"1\" class=\"dataframe\">\n",
       "  <thead>\n",
       "    <tr style=\"text-align: right;\">\n",
       "      <th></th>\n",
       "      <th>price_pct_variation</th>\n",
       "    </tr>\n",
       "  </thead>\n",
       "  <tbody>\n",
       "    <tr>\n",
       "      <th>333</th>\n",
       "      <td>-0.030194</td>\n",
       "    </tr>\n",
       "    <tr>\n",
       "      <th>317</th>\n",
       "      <td>-0.020286</td>\n",
       "    </tr>\n",
       "    <tr>\n",
       "      <th>974</th>\n",
       "      <td>0.036319</td>\n",
       "    </tr>\n",
       "    <tr>\n",
       "      <th>731</th>\n",
       "      <td>-0.001020</td>\n",
       "    </tr>\n",
       "    <tr>\n",
       "      <th>535</th>\n",
       "      <td>-0.056815</td>\n",
       "    </tr>\n",
       "  </tbody>\n",
       "</table>\n",
       "</div>"
      ],
      "text/plain": [
       "     price_pct_variation\n",
       "333            -0.030194\n",
       "317            -0.020286\n",
       "974             0.036319\n",
       "731            -0.001020\n",
       "535            -0.056815"
      ]
     },
     "execution_count": 16,
     "metadata": {},
     "output_type": "execute_result"
    }
   ],
   "source": [
    "y_train.head()"
   ]
  },
  {
   "cell_type": "code",
   "execution_count": 17,
   "id": "0d120b00-86a2-4229-9f20-fcb005c56140",
   "metadata": {},
   "outputs": [
    {
     "data": {
      "text/html": [
       "<div>\n",
       "<style scoped>\n",
       "    .dataframe tbody tr th:only-of-type {\n",
       "        vertical-align: middle;\n",
       "    }\n",
       "\n",
       "    .dataframe tbody tr th {\n",
       "        vertical-align: top;\n",
       "    }\n",
       "\n",
       "    .dataframe thead th {\n",
       "        text-align: right;\n",
       "    }\n",
       "</style>\n",
       "<table border=\"1\" class=\"dataframe\">\n",
       "  <thead>\n",
       "    <tr style=\"text-align: right;\">\n",
       "      <th></th>\n",
       "      <th>SMA_ratio</th>\n",
       "      <th>Stochastic_15</th>\n",
       "      <th>Stochastic_Ratio</th>\n",
       "      <th>RSI_15</th>\n",
       "      <th>MACD</th>\n",
       "      <th>title_vader_compound</th>\n",
       "    </tr>\n",
       "  </thead>\n",
       "  <tbody>\n",
       "    <tr>\n",
       "      <th>1018</th>\n",
       "      <td>0.987348</td>\n",
       "      <td>62.192823</td>\n",
       "      <td>1.071867</td>\n",
       "      <td>63.079871</td>\n",
       "      <td>-1.070437</td>\n",
       "      <td>-0.019660</td>\n",
       "    </tr>\n",
       "    <tr>\n",
       "      <th>1020</th>\n",
       "      <td>0.998891</td>\n",
       "      <td>33.746557</td>\n",
       "      <td>0.864440</td>\n",
       "      <td>42.403780</td>\n",
       "      <td>-0.580445</td>\n",
       "      <td>-0.152736</td>\n",
       "    </tr>\n",
       "    <tr>\n",
       "      <th>870</th>\n",
       "      <td>1.004748</td>\n",
       "      <td>15.899618</td>\n",
       "      <td>0.257542</td>\n",
       "      <td>49.223950</td>\n",
       "      <td>0.303199</td>\n",
       "      <td>-0.081838</td>\n",
       "    </tr>\n",
       "    <tr>\n",
       "      <th>184</th>\n",
       "      <td>0.978933</td>\n",
       "      <td>66.958697</td>\n",
       "      <td>0.608132</td>\n",
       "      <td>72.610276</td>\n",
       "      <td>-1.258680</td>\n",
       "      <td>0.000000</td>\n",
       "    </tr>\n",
       "    <tr>\n",
       "      <th>686</th>\n",
       "      <td>0.964942</td>\n",
       "      <td>92.712536</td>\n",
       "      <td>1.084195</td>\n",
       "      <td>84.470949</td>\n",
       "      <td>-2.340089</td>\n",
       "      <td>0.070400</td>\n",
       "    </tr>\n",
       "  </tbody>\n",
       "</table>\n",
       "</div>"
      ],
      "text/plain": [
       "      SMA_ratio  Stochastic_15  Stochastic_Ratio     RSI_15      MACD  \\\n",
       "1018   0.987348      62.192823          1.071867  63.079871 -1.070437   \n",
       "1020   0.998891      33.746557          0.864440  42.403780 -0.580445   \n",
       "870    1.004748      15.899618          0.257542  49.223950  0.303199   \n",
       "184    0.978933      66.958697          0.608132  72.610276 -1.258680   \n",
       "686    0.964942      92.712536          1.084195  84.470949 -2.340089   \n",
       "\n",
       "      title_vader_compound  \n",
       "1018             -0.019660  \n",
       "1020             -0.152736  \n",
       "870              -0.081838  \n",
       "184               0.000000  \n",
       "686               0.070400  "
      ]
     },
     "execution_count": 17,
     "metadata": {},
     "output_type": "execute_result"
    }
   ],
   "source": [
    "X_test.head()"
   ]
  },
  {
   "cell_type": "code",
   "execution_count": 18,
   "id": "6b82d77b-16b5-4be6-8214-4c3e31fcc50b",
   "metadata": {},
   "outputs": [
    {
     "data": {
      "text/html": [
       "<div>\n",
       "<style scoped>\n",
       "    .dataframe tbody tr th:only-of-type {\n",
       "        vertical-align: middle;\n",
       "    }\n",
       "\n",
       "    .dataframe tbody tr th {\n",
       "        vertical-align: top;\n",
       "    }\n",
       "\n",
       "    .dataframe thead th {\n",
       "        text-align: right;\n",
       "    }\n",
       "</style>\n",
       "<table border=\"1\" class=\"dataframe\">\n",
       "  <thead>\n",
       "    <tr style=\"text-align: right;\">\n",
       "      <th></th>\n",
       "      <th>price_pct_variation</th>\n",
       "    </tr>\n",
       "  </thead>\n",
       "  <tbody>\n",
       "    <tr>\n",
       "      <th>1018</th>\n",
       "      <td>-0.003940</td>\n",
       "    </tr>\n",
       "    <tr>\n",
       "      <th>1020</th>\n",
       "      <td>-0.013680</td>\n",
       "    </tr>\n",
       "    <tr>\n",
       "      <th>870</th>\n",
       "      <td>-0.014930</td>\n",
       "    </tr>\n",
       "    <tr>\n",
       "      <th>184</th>\n",
       "      <td>-0.021123</td>\n",
       "    </tr>\n",
       "    <tr>\n",
       "      <th>686</th>\n",
       "      <td>0.005501</td>\n",
       "    </tr>\n",
       "  </tbody>\n",
       "</table>\n",
       "</div>"
      ],
      "text/plain": [
       "      price_pct_variation\n",
       "1018            -0.003940\n",
       "1020            -0.013680\n",
       "870             -0.014930\n",
       "184             -0.021123\n",
       "686              0.005501"
      ]
     },
     "execution_count": 18,
     "metadata": {},
     "output_type": "execute_result"
    }
   ],
   "source": [
    "y_test.head()"
   ]
  },
  {
   "cell_type": "code",
   "execution_count": 19,
   "id": "c5043305-047d-47aa-8998-b370361d482d",
   "metadata": {},
   "outputs": [
    {
     "name": "stdout",
     "output_type": "stream",
     "text": [
      "[[ 2.8841753  -1.62921137 -1.21190414 -1.46549631  2.8537171   0.45687557]\n",
      " [-1.07866467  0.79355821 -0.56223866  0.95523055 -1.60639065 -0.55789348]\n",
      " [ 1.54095693 -0.58645789 -1.10051359 -1.18470299  1.03775927 -0.81919005]\n",
      " [-0.11600663 -0.36298517  1.23436537 -0.52364277  0.03416697 -0.10659627]\n",
      " [ 1.43359269 -1.55643014 -0.28168543 -1.56547538  1.2809425   0.09607469]]\n"
     ]
    }
   ],
   "source": [
    "preprocessor = Pipeline(steps=[\n",
    "    ('imputer', SimpleImputer(strategy='median')),\n",
    "    ('scaler', StandardScaler())\n",
    "])\n",
    "X_train = preprocessor.fit_transform(X_train)\n",
    "print(X_train[0:5,:]) # X_train is now a numpy array\n"
   ]
  },
  {
   "cell_type": "code",
   "execution_count": 20,
   "id": "811dc6c4-a8e6-40cf-8fe2-3266fa6e9019",
   "metadata": {},
   "outputs": [
    {
     "name": "stdout",
     "output_type": "stream",
     "text": [
      "      SMA_ratio  Stochastic_15  Stochastic_Ratio     RSI_15      MACD  \\\n",
      "1018   0.987348      62.192823          1.071867  63.079871 -1.070437   \n",
      "1020   0.998891      33.746557          0.864440  42.403780 -0.580445   \n",
      "870    1.004748      15.899618          0.257542  49.223950  0.303199   \n",
      "184    0.978933      66.958697          0.608132  72.610276 -1.258680   \n",
      "686    0.964942      92.712536          1.084195  84.470949 -2.340089   \n",
      "\n",
      "      title_vader_compound  \n",
      "1018             -0.019660  \n",
      "1020             -0.152736  \n",
      "870              -0.081838  \n",
      "184               0.000000  \n",
      "686               0.070400  \n",
      "\n"
     ]
    }
   ],
   "source": [
    "print(X_test.head())\n",
    "print()\n",
    "X_test = preprocessor.transform(X_test)"
   ]
  },
  {
   "cell_type": "code",
   "execution_count": 21,
   "id": "bc2d11e9-4bc5-4f8f-be20-bffe77597435",
   "metadata": {},
   "outputs": [
    {
     "name": "stdout",
     "output_type": "stream",
     "text": [
      "[[-0.41236928  0.30842231  0.22630273  0.64092666 -0.71103905 -0.23928775]\n",
      " [-0.05240448 -0.63624872 -0.36905598 -0.53211771 -0.37355605 -0.97614719]\n",
      " [ 0.1302647  -1.2289271  -2.11097472 -0.14517988  0.23505508 -0.58357719]\n",
      " [-0.6747883   0.46669205 -1.10471246  1.18162783 -0.84069159 -0.13042802]\n",
      " [-1.11108643  1.32195037  0.26168551  1.8545353  -1.58551388  0.25938505]]\n"
     ]
    }
   ],
   "source": [
    "print(X_test[0:5,:])\n"
   ]
  },
  {
   "cell_type": "code",
   "execution_count": 22,
   "id": "a5027daa-9344-4601-925a-5de43362e8c7",
   "metadata": {},
   "outputs": [
    {
     "data": {
      "text/plain": [
       "LinearRegression()"
      ]
     },
     "execution_count": 22,
     "metadata": {},
     "output_type": "execute_result"
    }
   ],
   "source": [
    "regressor = LinearRegression()\n",
    "regressor.fit(X_train, y_train)\n"
   ]
  },
  {
   "cell_type": "code",
   "execution_count": 23,
   "id": "9193407d-2145-42ed-b6c3-b2413a06c32c",
   "metadata": {},
   "outputs": [],
   "source": [
    "y_train_pred = regressor.predict(X_train)\n",
    "y_test_pred = regressor.predict(X_test)"
   ]
  },
  {
   "cell_type": "code",
   "execution_count": 24,
   "id": "5bfd5d13-1abe-43a2-a7e5-bf8421d3c9b3",
   "metadata": {},
   "outputs": [
    {
     "name": "stdout",
     "output_type": "stream",
     "text": [
      "[[ 0.00270672]\n",
      " [ 0.00613149]\n",
      " [ 0.01075044]\n",
      " [-0.00969953]\n",
      " [-0.01133715]\n",
      " [-0.00328797]\n",
      " [ 0.01805773]\n",
      " [ 0.00675913]\n",
      " [-0.00514351]\n",
      " [-0.01274501]]\n"
     ]
    }
   ],
   "source": [
    "print(y_train_pred[0:10])"
   ]
  },
  {
   "cell_type": "code",
   "execution_count": 25,
   "id": "d9cb1e48-7576-44ff-9592-88e64f3a4dc8",
   "metadata": {},
   "outputs": [
    {
     "name": "stdout",
     "output_type": "stream",
     "text": [
      "      price_pct_variation\n",
      "333             -0.030194\n",
      "317             -0.020286\n",
      "974              0.036319\n",
      "731             -0.001020\n",
      "535             -0.056815\n",
      "898              0.003879\n",
      "311              0.009636\n",
      "605              0.004392\n",
      "503             -0.017424\n",
      "1126            -0.010968\n"
     ]
    }
   ],
   "source": [
    "print(y_train[0:10])\n"
   ]
  },
  {
   "cell_type": "code",
   "execution_count": 26,
   "id": "42d0838e-f2e8-4ff5-9b9c-ea15ef312ee6",
   "metadata": {},
   "outputs": [
    {
     "data": {
      "text/plain": [
       "array([[ 0.00144616],\n",
       "       [-0.00885123],\n",
       "       [-0.01648829],\n",
       "       [ 0.00344213],\n",
       "       [ 0.01159241],\n",
       "       [-0.00371742],\n",
       "       [-0.00666423],\n",
       "       [-0.02269505],\n",
       "       [-0.00453276],\n",
       "       [ 0.00888435]])"
      ]
     },
     "execution_count": 26,
     "metadata": {},
     "output_type": "execute_result"
    }
   ],
   "source": [
    "y_test_pred[0:10]"
   ]
  },
  {
   "cell_type": "code",
   "execution_count": 27,
   "id": "4656ca84-cd5f-402d-9dff-2a3e678f84a6",
   "metadata": {},
   "outputs": [
    {
     "name": "stdout",
     "output_type": "stream",
     "text": [
      "      price_pct_variation\n",
      "1018            -0.003940\n",
      "1020            -0.013680\n",
      "870             -0.014930\n",
      "184             -0.021123\n",
      "686              0.005501\n",
      "938             -0.002834\n",
      "568             -0.000892\n",
      "893             -0.020575\n",
      "431             -0.019575\n",
      "465              0.026936\n"
     ]
    }
   ],
   "source": [
    "print(y_test[0:10])"
   ]
  },
  {
   "cell_type": "code",
   "execution_count": 28,
   "id": "76201515-f62b-4786-8eed-139edf263c51",
   "metadata": {},
   "outputs": [
    {
     "name": "stdout",
     "output_type": "stream",
     "text": [
      "R2 score on training set :  0.28786898513554704\n",
      "R2 score on test set :  0.30611296542485034\n"
     ]
    }
   ],
   "source": [
    "print(\"R2 score on training set : \", r2_score(y_train, y_train_pred))\n",
    "print(\"R2 score on test set : \", r2_score(y_test, y_test_pred))\n"
   ]
  }
 ],
 "metadata": {
  "kernelspec": {
   "display_name": "Python 3 (ipykernel)",
   "language": "python",
   "name": "python3"
  },
  "language_info": {
   "codemirror_mode": {
    "name": "ipython",
    "version": 3
   },
   "file_extension": ".py",
   "mimetype": "text/x-python",
   "name": "python",
   "nbconvert_exporter": "python",
   "pygments_lexer": "ipython3",
   "version": "3.9.7"
  }
 },
 "nbformat": 4,
 "nbformat_minor": 5
}
