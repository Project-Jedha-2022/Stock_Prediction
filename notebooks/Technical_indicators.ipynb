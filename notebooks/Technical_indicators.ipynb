{
  "nbformat": 4,
  "nbformat_minor": 0,
  "metadata": {
    "colab": {
      "name": "Technical_indicators.ipynb",
      "provenance": [],
      "collapsed_sections": []
    },
    "kernelspec": {
      "name": "python3",
      "display_name": "Python 3"
    },
    "language_info": {
      "name": "python"
    }
  },
  "cells": [
    {
      "cell_type": "code",
      "source": [
        "#!pip install yfinance -q\n",
        "#!pip install yahoo_fin -q"
      ],
      "metadata": {
        "id": "BEN1D5CMayII"
      },
      "execution_count": 117,
      "outputs": []
    },
    {
      "cell_type": "code",
      "source": [
        "import pandas as pd\n",
        "import numpy as np\n",
        "import datetime as dt\n",
        "import seaborn as sns\n",
        "import matplotlib.pyplot as plt\n",
        "\n",
        "import yfinance as yf\n",
        "\n",
        "#extracting data from Yahoo Finance API\n",
        "tickers = ['UBI.PA']\n",
        "all_data = pd.DataFrame()\n",
        "test_data = pd.DataFrame()\n",
        "no_data = []\n",
        "\n",
        "for i in tickers:\n",
        "    try:\n",
        "        test_data = yf.download(tickers=i, start='2022-04-15', interval='1h')\n",
        "        test_data['symbol'] = i\n",
        "        all_data = all_data.append(test_data)\n",
        "    except:\n",
        "        no_data.append(i)\n",
        "\n",
        "# Lowercase column names\n",
        "all_data.rename(columns={\"Open\": \"open\", \"High\": \"high\", \"Low\": \"low\", \"Close\": \"close\", \"Volume\":\"volume\"}, inplace=True)\n",
        "\n",
        "#Creating Return column\n",
        "all_data['return'] = all_data.groupby('symbol')['close'].pct_change() "
      ],
      "metadata": {
        "id": "pAbha2bAMNuj",
        "colab": {
          "base_uri": "https://localhost:8080/"
        },
        "outputId": "81b6ae18-e2e8-4f68-fc8c-3ed6ad7d8e64"
      },
      "execution_count": 118,
      "outputs": [
        {
          "output_type": "stream",
          "name": "stdout",
          "text": [
            "\r[*********************100%***********************]  1 of 1 completed\n"
          ]
        }
      ]
    },
    {
      "cell_type": "code",
      "source": [
        "all_data.shape"
      ],
      "metadata": {
        "colab": {
          "base_uri": "https://localhost:8080/"
        },
        "id": "YKl0eLSYVJ_Q",
        "outputId": "c06c9fa5-312e-4385-8825-efd17bc29023"
      },
      "execution_count": 119,
      "outputs": [
        {
          "output_type": "execute_result",
          "data": {
            "text/plain": [
              "(753, 8)"
            ]
          },
          "metadata": {},
          "execution_count": 119
        }
      ]
    },
    {
      "cell_type": "code",
      "source": [
        ""
      ],
      "metadata": {
        "id": "YsmsFZisSulY"
      },
      "execution_count": 119,
      "outputs": []
    },
    {
      "cell_type": "markdown",
      "source": [
        "## SMA"
      ],
      "metadata": {
        "id": "kgdmGS_pSv-7"
      }
    },
    {
      "cell_type": "code",
      "source": [
        "all_data['SMA_5'] = all_data.groupby('symbol')['close'].transform(lambda x: x.rolling(window = 5).mean())\n",
        "all_data['SMA_15'] = all_data.groupby('symbol')['close'].transform(lambda x: x.rolling(window = 15).mean())\n",
        "all_data['SMA_ratio'] = all_data['SMA_15'] / all_data['SMA_5']"
      ],
      "metadata": {
        "id": "JaHN-f-JPl8M"
      },
      "execution_count": 120,
      "outputs": []
    },
    {
      "cell_type": "code",
      "source": [
        ""
      ],
      "metadata": {
        "id": "BKtwhuNrTJBW"
      },
      "execution_count": 120,
      "outputs": []
    },
    {
      "cell_type": "code",
      "source": [
        "all_data['SMA5_Volume'] = all_data.groupby('symbol')['volume'].transform(lambda x: x.rolling(window = 5).mean())\n",
        "all_data['SMA15_Volume'] = all_data.groupby('symbol')['volume'].transform(lambda x: x.rolling(window = 15).mean())\n",
        "all_data['SMA_Volume_Ratio'] = all_data['SMA5_Volume']/all_data['SMA15_Volume']"
      ],
      "metadata": {
        "id": "pChSgNjfTlqG"
      },
      "execution_count": 121,
      "outputs": []
    },
    {
      "cell_type": "code",
      "source": [
        ""
      ],
      "metadata": {
        "id": "9-4Htwr4YbmG"
      },
      "execution_count": 121,
      "outputs": []
    },
    {
      "cell_type": "markdown",
      "source": [
        "## Stochastic"
      ],
      "metadata": {
        "id": "aafYsq3fYez5"
      }
    },
    {
      "cell_type": "code",
      "source": [
        "all_data['Lowest_5D'] = all_data.groupby('symbol')['low'].transform(lambda x: x.rolling(window = 5).min())\n",
        "all_data['High_5D'] = all_data.groupby('symbol')['high'].transform(lambda x: x.rolling(window = 5).max())\n",
        "all_data['Lowest_15D'] = all_data.groupby('symbol')['low'].transform(lambda x: x.rolling(window = 15).min())\n",
        "all_data['High_15D'] = all_data.groupby('symbol')['high'].transform(lambda x: x.rolling(window = 15).max())\n",
        "\n",
        "all_data['Stochastic_5'] = ((all_data['close'] - all_data['Lowest_5D'])/(all_data['High_5D'] - all_data['Lowest_5D']))*100\n",
        "all_data['Stochastic_15'] = ((all_data['close'] - all_data['Lowest_15D'])/(all_data['High_15D'] - all_data['Lowest_15D']))*100\n",
        "\n",
        "all_data['Stochastic_%D_5'] = all_data['Stochastic_5'].rolling(window = 5).mean()\n",
        "all_data['Stochastic_%D_15'] = all_data['Stochastic_5'].rolling(window = 15).mean()\n",
        "\n",
        "all_data['Stochastic_Ratio'] = all_data['Stochastic_%D_5']/all_data['Stochastic_%D_15']"
      ],
      "metadata": {
        "id": "_GG7omkVYcAX"
      },
      "execution_count": 122,
      "outputs": []
    },
    {
      "cell_type": "code",
      "source": [
        ""
      ],
      "metadata": {
        "id": "mf33m2Rxb6dW"
      },
      "execution_count": 122,
      "outputs": []
    },
    {
      "cell_type": "markdown",
      "source": [
        "## RSI"
      ],
      "metadata": {
        "id": "wpDR7BNQTBJ7"
      }
    },
    {
      "cell_type": "code",
      "source": [
        "all_data['Diff'] = all_data.groupby('symbol')['close'].transform(lambda x: x.diff())\n",
        "all_data['Up'] = all_data['Diff']\n",
        "all_data.loc[(all_data['Up']<0), 'Up'] = 0\n",
        "\n",
        "all_data['Down'] = all_data['Diff']\n",
        "all_data.loc[(all_data['Down']>0), 'Down'] = 0 \n",
        "all_data['Down'] = abs(all_data['Down'])\n",
        "\n",
        "all_data['avg_5up'] = all_data.groupby('symbol')['Up'].transform(lambda x: x.rolling(window=5).mean())\n",
        "all_data['avg_5down'] = all_data.groupby('symbol')['Down'].transform(lambda x: x.rolling(window=5).mean())\n",
        "\n",
        "all_data['avg_15up'] = all_data.groupby('symbol')['Up'].transform(lambda x: x.rolling(window=15).mean())\n",
        "all_data['avg_15down'] = all_data.groupby('symbol')['Down'].transform(lambda x: x.rolling(window=15).mean())\n",
        "\n",
        "all_data['RS_5'] = all_data['avg_5up'] / all_data['avg_5down']\n",
        "all_data['RS_15'] = all_data['avg_15up'] / all_data['avg_15down']\n",
        "\n",
        "all_data['RSI_5'] = 100 - (100/(1+all_data['RS_5']))\n",
        "all_data['RSI_15'] = 100 - (100/(1+all_data['RS_15']))\n",
        "\n",
        "all_data['RSI_ratio'] = all_data['RSI_5']/all_data['RSI_15']"
      ],
      "metadata": {
        "id": "ivEf4HfeS8VE"
      },
      "execution_count": 123,
      "outputs": []
    },
    {
      "cell_type": "code",
      "source": [
        ""
      ],
      "metadata": {
        "id": "o6QpJDIoS_Mn"
      },
      "execution_count": 123,
      "outputs": []
    },
    {
      "cell_type": "code",
      "source": [
        "all_data['5Ewm'] = all_data.groupby('symbol')['close'].transform(lambda x: x.ewm(span=5, adjust=False).mean())\n",
        "all_data['15Ewm'] = all_data.groupby('symbol')['close'].transform(lambda x: x.ewm(span=15, adjust=False).mean())\n",
        "all_data['MACD'] = all_data['15Ewm'] - all_data['5Ewm']"
      ],
      "metadata": {
        "id": "zGYnkXzhTQ5K"
      },
      "execution_count": 124,
      "outputs": []
    },
    {
      "cell_type": "code",
      "source": [
        ""
      ],
      "metadata": {
        "id": "9J75WjnxUnc4"
      },
      "execution_count": 124,
      "outputs": []
    },
    {
      "cell_type": "code",
      "source": [
        "all_data"
      ],
      "metadata": {
        "colab": {
          "base_uri": "https://localhost:8080/",
          "height": 678
        },
        "id": "Q5i9hk4DVdBn",
        "outputId": "1df37a73-735a-4feb-a54c-da0040052f11"
      },
      "execution_count": 125,
      "outputs": [
        {
          "output_type": "execute_result",
          "data": {
            "text/plain": [
              "                                open       high        low      close  \\\n",
              "2022-04-19 09:00:00+02:00  36.700001  36.700001  35.639999  36.049999   \n",
              "2022-04-19 10:00:00+02:00  36.049999  36.500000  36.020000  36.270000   \n",
              "2022-04-19 11:00:00+02:00  36.279999  36.279999  35.720001  35.790001   \n",
              "2022-04-19 12:00:00+02:00  35.770000  36.080002  35.590000  35.730000   \n",
              "2022-04-19 13:00:00+02:00  35.770000  35.900002  35.680000  35.840000   \n",
              "...                              ...        ...        ...        ...   \n",
              "2022-08-12 10:00:00+02:00  45.790001  45.799999  45.189999  45.250000   \n",
              "2022-08-12 11:00:00+02:00  45.230000  45.490002  45.230000  45.389999   \n",
              "2022-08-12 12:00:00+02:00  45.380001  45.380001  45.230000  45.340000   \n",
              "2022-08-12 13:00:00+02:00  45.320000  45.419998  45.290001  45.389999   \n",
              "2022-08-12 13:44:32+02:00  45.369999  45.369999  45.369999  45.369999   \n",
              "\n",
              "                           Adj Close  volume  symbol    return      SMA_5  \\\n",
              "2022-04-19 09:00:00+02:00  36.049999       0  UBI.PA       NaN        NaN   \n",
              "2022-04-19 10:00:00+02:00  36.270000   72824  UBI.PA  0.006103        NaN   \n",
              "2022-04-19 11:00:00+02:00  35.790001   21534  UBI.PA -0.013234        NaN   \n",
              "2022-04-19 12:00:00+02:00  35.730000   21038  UBI.PA -0.001676        NaN   \n",
              "2022-04-19 13:00:00+02:00  35.840000    9885  UBI.PA  0.003079  35.936000   \n",
              "...                              ...     ...     ...       ...        ...   \n",
              "2022-08-12 10:00:00+02:00  45.250000   28059  UBI.PA -0.011145  45.863999   \n",
              "2022-08-12 11:00:00+02:00  45.389999   15400  UBI.PA  0.003094  45.689999   \n",
              "2022-08-12 12:00:00+02:00  45.340000   10428  UBI.PA -0.001102  45.557999   \n",
              "2022-08-12 13:00:00+02:00  45.389999    5281  UBI.PA  0.001103  45.425999   \n",
              "2022-08-12 13:44:32+02:00  45.369999       0  UBI.PA -0.000441  45.348000   \n",
              "\n",
              "                              SMA_15  ...  avg_15up  avg_15down      RS_5  \\\n",
              "2022-04-19 09:00:00+02:00        NaN  ...       NaN         NaN       NaN   \n",
              "2022-04-19 10:00:00+02:00        NaN  ...       NaN         NaN       NaN   \n",
              "2022-04-19 11:00:00+02:00        NaN  ...       NaN         NaN       NaN   \n",
              "2022-04-19 12:00:00+02:00        NaN  ...       NaN         NaN       NaN   \n",
              "2022-04-19 13:00:00+02:00        NaN  ...       NaN         NaN       NaN   \n",
              "...                              ...  ...       ...         ...       ...   \n",
              "2022-08-12 10:00:00+02:00  45.588666  ...  0.125333    0.104000  0.320752   \n",
              "2022-08-12 11:00:00+02:00  45.603333  ...  0.118667    0.104000  0.179244   \n",
              "2022-08-12 12:00:00+02:00  45.622666  ...  0.118667    0.099333  0.223528   \n",
              "2022-08-12 13:00:00+02:00  45.648000  ...  0.122000    0.096666  0.223528   \n",
              "2022-08-12 13:44:32+02:00  45.656000  ...  0.106000    0.098000  0.327585   \n",
              "\n",
              "                              RS_15      RSI_5     RSI_15  RSI_ratio  \\\n",
              "2022-04-19 09:00:00+02:00       NaN        NaN        NaN        NaN   \n",
              "2022-04-19 10:00:00+02:00       NaN        NaN        NaN        NaN   \n",
              "2022-04-19 11:00:00+02:00       NaN        NaN        NaN        NaN   \n",
              "2022-04-19 12:00:00+02:00       NaN        NaN        NaN        NaN   \n",
              "2022-04-19 13:00:00+02:00       NaN        NaN        NaN        NaN   \n",
              "...                             ...        ...        ...        ...   \n",
              "2022-08-12 10:00:00+02:00  1.205128  24.285559  54.651165   0.444374   \n",
              "2022-08-12 11:00:00+02:00  1.141027  15.199937  53.293435   0.285212   \n",
              "2022-08-12 12:00:00+02:00  1.194632  18.269150  54.434269   0.335619   \n",
              "2022-08-12 13:00:00+02:00  1.262070  18.269150  55.792708   0.327447   \n",
              "2022-08-12 13:44:32+02:00  1.081632  24.675254  51.960771   0.474882   \n",
              "\n",
              "                                5Ewm      15Ewm      MACD  \n",
              "2022-04-19 09:00:00+02:00  36.049999  36.049999  0.000000  \n",
              "2022-04-19 10:00:00+02:00  36.123333  36.077499 -0.045834  \n",
              "2022-04-19 11:00:00+02:00  36.012222  36.041562  0.029340  \n",
              "2022-04-19 12:00:00+02:00  35.918148  36.002617  0.084469  \n",
              "2022-04-19 13:00:00+02:00  35.892099  35.982290  0.090191  \n",
              "...                              ...        ...       ...  \n",
              "2022-08-12 10:00:00+02:00  45.683261  45.641024 -0.042237  \n",
              "2022-08-12 11:00:00+02:00  45.585507  45.609646  0.024138  \n",
              "2022-08-12 12:00:00+02:00  45.503672  45.575940  0.072268  \n",
              "2022-08-12 13:00:00+02:00  45.465781  45.552697  0.086917  \n",
              "2022-08-12 13:44:32+02:00  45.433854  45.529860  0.096007  \n",
              "\n",
              "[753 rows x 38 columns]"
            ],
            "text/html": [
              "\n",
              "  <div id=\"df-f4f82ab3-8b9d-4b4d-98ab-d66fba5bf8d1\">\n",
              "    <div class=\"colab-df-container\">\n",
              "      <div>\n",
              "<style scoped>\n",
              "    .dataframe tbody tr th:only-of-type {\n",
              "        vertical-align: middle;\n",
              "    }\n",
              "\n",
              "    .dataframe tbody tr th {\n",
              "        vertical-align: top;\n",
              "    }\n",
              "\n",
              "    .dataframe thead th {\n",
              "        text-align: right;\n",
              "    }\n",
              "</style>\n",
              "<table border=\"1\" class=\"dataframe\">\n",
              "  <thead>\n",
              "    <tr style=\"text-align: right;\">\n",
              "      <th></th>\n",
              "      <th>open</th>\n",
              "      <th>high</th>\n",
              "      <th>low</th>\n",
              "      <th>close</th>\n",
              "      <th>Adj Close</th>\n",
              "      <th>volume</th>\n",
              "      <th>symbol</th>\n",
              "      <th>return</th>\n",
              "      <th>SMA_5</th>\n",
              "      <th>SMA_15</th>\n",
              "      <th>...</th>\n",
              "      <th>avg_15up</th>\n",
              "      <th>avg_15down</th>\n",
              "      <th>RS_5</th>\n",
              "      <th>RS_15</th>\n",
              "      <th>RSI_5</th>\n",
              "      <th>RSI_15</th>\n",
              "      <th>RSI_ratio</th>\n",
              "      <th>5Ewm</th>\n",
              "      <th>15Ewm</th>\n",
              "      <th>MACD</th>\n",
              "    </tr>\n",
              "  </thead>\n",
              "  <tbody>\n",
              "    <tr>\n",
              "      <th>2022-04-19 09:00:00+02:00</th>\n",
              "      <td>36.700001</td>\n",
              "      <td>36.700001</td>\n",
              "      <td>35.639999</td>\n",
              "      <td>36.049999</td>\n",
              "      <td>36.049999</td>\n",
              "      <td>0</td>\n",
              "      <td>UBI.PA</td>\n",
              "      <td>NaN</td>\n",
              "      <td>NaN</td>\n",
              "      <td>NaN</td>\n",
              "      <td>...</td>\n",
              "      <td>NaN</td>\n",
              "      <td>NaN</td>\n",
              "      <td>NaN</td>\n",
              "      <td>NaN</td>\n",
              "      <td>NaN</td>\n",
              "      <td>NaN</td>\n",
              "      <td>NaN</td>\n",
              "      <td>36.049999</td>\n",
              "      <td>36.049999</td>\n",
              "      <td>0.000000</td>\n",
              "    </tr>\n",
              "    <tr>\n",
              "      <th>2022-04-19 10:00:00+02:00</th>\n",
              "      <td>36.049999</td>\n",
              "      <td>36.500000</td>\n",
              "      <td>36.020000</td>\n",
              "      <td>36.270000</td>\n",
              "      <td>36.270000</td>\n",
              "      <td>72824</td>\n",
              "      <td>UBI.PA</td>\n",
              "      <td>0.006103</td>\n",
              "      <td>NaN</td>\n",
              "      <td>NaN</td>\n",
              "      <td>...</td>\n",
              "      <td>NaN</td>\n",
              "      <td>NaN</td>\n",
              "      <td>NaN</td>\n",
              "      <td>NaN</td>\n",
              "      <td>NaN</td>\n",
              "      <td>NaN</td>\n",
              "      <td>NaN</td>\n",
              "      <td>36.123333</td>\n",
              "      <td>36.077499</td>\n",
              "      <td>-0.045834</td>\n",
              "    </tr>\n",
              "    <tr>\n",
              "      <th>2022-04-19 11:00:00+02:00</th>\n",
              "      <td>36.279999</td>\n",
              "      <td>36.279999</td>\n",
              "      <td>35.720001</td>\n",
              "      <td>35.790001</td>\n",
              "      <td>35.790001</td>\n",
              "      <td>21534</td>\n",
              "      <td>UBI.PA</td>\n",
              "      <td>-0.013234</td>\n",
              "      <td>NaN</td>\n",
              "      <td>NaN</td>\n",
              "      <td>...</td>\n",
              "      <td>NaN</td>\n",
              "      <td>NaN</td>\n",
              "      <td>NaN</td>\n",
              "      <td>NaN</td>\n",
              "      <td>NaN</td>\n",
              "      <td>NaN</td>\n",
              "      <td>NaN</td>\n",
              "      <td>36.012222</td>\n",
              "      <td>36.041562</td>\n",
              "      <td>0.029340</td>\n",
              "    </tr>\n",
              "    <tr>\n",
              "      <th>2022-04-19 12:00:00+02:00</th>\n",
              "      <td>35.770000</td>\n",
              "      <td>36.080002</td>\n",
              "      <td>35.590000</td>\n",
              "      <td>35.730000</td>\n",
              "      <td>35.730000</td>\n",
              "      <td>21038</td>\n",
              "      <td>UBI.PA</td>\n",
              "      <td>-0.001676</td>\n",
              "      <td>NaN</td>\n",
              "      <td>NaN</td>\n",
              "      <td>...</td>\n",
              "      <td>NaN</td>\n",
              "      <td>NaN</td>\n",
              "      <td>NaN</td>\n",
              "      <td>NaN</td>\n",
              "      <td>NaN</td>\n",
              "      <td>NaN</td>\n",
              "      <td>NaN</td>\n",
              "      <td>35.918148</td>\n",
              "      <td>36.002617</td>\n",
              "      <td>0.084469</td>\n",
              "    </tr>\n",
              "    <tr>\n",
              "      <th>2022-04-19 13:00:00+02:00</th>\n",
              "      <td>35.770000</td>\n",
              "      <td>35.900002</td>\n",
              "      <td>35.680000</td>\n",
              "      <td>35.840000</td>\n",
              "      <td>35.840000</td>\n",
              "      <td>9885</td>\n",
              "      <td>UBI.PA</td>\n",
              "      <td>0.003079</td>\n",
              "      <td>35.936000</td>\n",
              "      <td>NaN</td>\n",
              "      <td>...</td>\n",
              "      <td>NaN</td>\n",
              "      <td>NaN</td>\n",
              "      <td>NaN</td>\n",
              "      <td>NaN</td>\n",
              "      <td>NaN</td>\n",
              "      <td>NaN</td>\n",
              "      <td>NaN</td>\n",
              "      <td>35.892099</td>\n",
              "      <td>35.982290</td>\n",
              "      <td>0.090191</td>\n",
              "    </tr>\n",
              "    <tr>\n",
              "      <th>...</th>\n",
              "      <td>...</td>\n",
              "      <td>...</td>\n",
              "      <td>...</td>\n",
              "      <td>...</td>\n",
              "      <td>...</td>\n",
              "      <td>...</td>\n",
              "      <td>...</td>\n",
              "      <td>...</td>\n",
              "      <td>...</td>\n",
              "      <td>...</td>\n",
              "      <td>...</td>\n",
              "      <td>...</td>\n",
              "      <td>...</td>\n",
              "      <td>...</td>\n",
              "      <td>...</td>\n",
              "      <td>...</td>\n",
              "      <td>...</td>\n",
              "      <td>...</td>\n",
              "      <td>...</td>\n",
              "      <td>...</td>\n",
              "      <td>...</td>\n",
              "    </tr>\n",
              "    <tr>\n",
              "      <th>2022-08-12 10:00:00+02:00</th>\n",
              "      <td>45.790001</td>\n",
              "      <td>45.799999</td>\n",
              "      <td>45.189999</td>\n",
              "      <td>45.250000</td>\n",
              "      <td>45.250000</td>\n",
              "      <td>28059</td>\n",
              "      <td>UBI.PA</td>\n",
              "      <td>-0.011145</td>\n",
              "      <td>45.863999</td>\n",
              "      <td>45.588666</td>\n",
              "      <td>...</td>\n",
              "      <td>0.125333</td>\n",
              "      <td>0.104000</td>\n",
              "      <td>0.320752</td>\n",
              "      <td>1.205128</td>\n",
              "      <td>24.285559</td>\n",
              "      <td>54.651165</td>\n",
              "      <td>0.444374</td>\n",
              "      <td>45.683261</td>\n",
              "      <td>45.641024</td>\n",
              "      <td>-0.042237</td>\n",
              "    </tr>\n",
              "    <tr>\n",
              "      <th>2022-08-12 11:00:00+02:00</th>\n",
              "      <td>45.230000</td>\n",
              "      <td>45.490002</td>\n",
              "      <td>45.230000</td>\n",
              "      <td>45.389999</td>\n",
              "      <td>45.389999</td>\n",
              "      <td>15400</td>\n",
              "      <td>UBI.PA</td>\n",
              "      <td>0.003094</td>\n",
              "      <td>45.689999</td>\n",
              "      <td>45.603333</td>\n",
              "      <td>...</td>\n",
              "      <td>0.118667</td>\n",
              "      <td>0.104000</td>\n",
              "      <td>0.179244</td>\n",
              "      <td>1.141027</td>\n",
              "      <td>15.199937</td>\n",
              "      <td>53.293435</td>\n",
              "      <td>0.285212</td>\n",
              "      <td>45.585507</td>\n",
              "      <td>45.609646</td>\n",
              "      <td>0.024138</td>\n",
              "    </tr>\n",
              "    <tr>\n",
              "      <th>2022-08-12 12:00:00+02:00</th>\n",
              "      <td>45.380001</td>\n",
              "      <td>45.380001</td>\n",
              "      <td>45.230000</td>\n",
              "      <td>45.340000</td>\n",
              "      <td>45.340000</td>\n",
              "      <td>10428</td>\n",
              "      <td>UBI.PA</td>\n",
              "      <td>-0.001102</td>\n",
              "      <td>45.557999</td>\n",
              "      <td>45.622666</td>\n",
              "      <td>...</td>\n",
              "      <td>0.118667</td>\n",
              "      <td>0.099333</td>\n",
              "      <td>0.223528</td>\n",
              "      <td>1.194632</td>\n",
              "      <td>18.269150</td>\n",
              "      <td>54.434269</td>\n",
              "      <td>0.335619</td>\n",
              "      <td>45.503672</td>\n",
              "      <td>45.575940</td>\n",
              "      <td>0.072268</td>\n",
              "    </tr>\n",
              "    <tr>\n",
              "      <th>2022-08-12 13:00:00+02:00</th>\n",
              "      <td>45.320000</td>\n",
              "      <td>45.419998</td>\n",
              "      <td>45.290001</td>\n",
              "      <td>45.389999</td>\n",
              "      <td>45.389999</td>\n",
              "      <td>5281</td>\n",
              "      <td>UBI.PA</td>\n",
              "      <td>0.001103</td>\n",
              "      <td>45.425999</td>\n",
              "      <td>45.648000</td>\n",
              "      <td>...</td>\n",
              "      <td>0.122000</td>\n",
              "      <td>0.096666</td>\n",
              "      <td>0.223528</td>\n",
              "      <td>1.262070</td>\n",
              "      <td>18.269150</td>\n",
              "      <td>55.792708</td>\n",
              "      <td>0.327447</td>\n",
              "      <td>45.465781</td>\n",
              "      <td>45.552697</td>\n",
              "      <td>0.086917</td>\n",
              "    </tr>\n",
              "    <tr>\n",
              "      <th>2022-08-12 13:44:32+02:00</th>\n",
              "      <td>45.369999</td>\n",
              "      <td>45.369999</td>\n",
              "      <td>45.369999</td>\n",
              "      <td>45.369999</td>\n",
              "      <td>45.369999</td>\n",
              "      <td>0</td>\n",
              "      <td>UBI.PA</td>\n",
              "      <td>-0.000441</td>\n",
              "      <td>45.348000</td>\n",
              "      <td>45.656000</td>\n",
              "      <td>...</td>\n",
              "      <td>0.106000</td>\n",
              "      <td>0.098000</td>\n",
              "      <td>0.327585</td>\n",
              "      <td>1.081632</td>\n",
              "      <td>24.675254</td>\n",
              "      <td>51.960771</td>\n",
              "      <td>0.474882</td>\n",
              "      <td>45.433854</td>\n",
              "      <td>45.529860</td>\n",
              "      <td>0.096007</td>\n",
              "    </tr>\n",
              "  </tbody>\n",
              "</table>\n",
              "<p>753 rows × 38 columns</p>\n",
              "</div>\n",
              "      <button class=\"colab-df-convert\" onclick=\"convertToInteractive('df-f4f82ab3-8b9d-4b4d-98ab-d66fba5bf8d1')\"\n",
              "              title=\"Convert this dataframe to an interactive table.\"\n",
              "              style=\"display:none;\">\n",
              "        \n",
              "  <svg xmlns=\"http://www.w3.org/2000/svg\" height=\"24px\"viewBox=\"0 0 24 24\"\n",
              "       width=\"24px\">\n",
              "    <path d=\"M0 0h24v24H0V0z\" fill=\"none\"/>\n",
              "    <path d=\"M18.56 5.44l.94 2.06.94-2.06 2.06-.94-2.06-.94-.94-2.06-.94 2.06-2.06.94zm-11 1L8.5 8.5l.94-2.06 2.06-.94-2.06-.94L8.5 2.5l-.94 2.06-2.06.94zm10 10l.94 2.06.94-2.06 2.06-.94-2.06-.94-.94-2.06-.94 2.06-2.06.94z\"/><path d=\"M17.41 7.96l-1.37-1.37c-.4-.4-.92-.59-1.43-.59-.52 0-1.04.2-1.43.59L10.3 9.45l-7.72 7.72c-.78.78-.78 2.05 0 2.83L4 21.41c.39.39.9.59 1.41.59.51 0 1.02-.2 1.41-.59l7.78-7.78 2.81-2.81c.8-.78.8-2.07 0-2.86zM5.41 20L4 18.59l7.72-7.72 1.47 1.35L5.41 20z\"/>\n",
              "  </svg>\n",
              "      </button>\n",
              "      \n",
              "  <style>\n",
              "    .colab-df-container {\n",
              "      display:flex;\n",
              "      flex-wrap:wrap;\n",
              "      gap: 12px;\n",
              "    }\n",
              "\n",
              "    .colab-df-convert {\n",
              "      background-color: #E8F0FE;\n",
              "      border: none;\n",
              "      border-radius: 50%;\n",
              "      cursor: pointer;\n",
              "      display: none;\n",
              "      fill: #1967D2;\n",
              "      height: 32px;\n",
              "      padding: 0 0 0 0;\n",
              "      width: 32px;\n",
              "    }\n",
              "\n",
              "    .colab-df-convert:hover {\n",
              "      background-color: #E2EBFA;\n",
              "      box-shadow: 0px 1px 2px rgba(60, 64, 67, 0.3), 0px 1px 3px 1px rgba(60, 64, 67, 0.15);\n",
              "      fill: #174EA6;\n",
              "    }\n",
              "\n",
              "    [theme=dark] .colab-df-convert {\n",
              "      background-color: #3B4455;\n",
              "      fill: #D2E3FC;\n",
              "    }\n",
              "\n",
              "    [theme=dark] .colab-df-convert:hover {\n",
              "      background-color: #434B5C;\n",
              "      box-shadow: 0px 1px 3px 1px rgba(0, 0, 0, 0.15);\n",
              "      filter: drop-shadow(0px 1px 2px rgba(0, 0, 0, 0.3));\n",
              "      fill: #FFFFFF;\n",
              "    }\n",
              "  </style>\n",
              "\n",
              "      <script>\n",
              "        const buttonEl =\n",
              "          document.querySelector('#df-f4f82ab3-8b9d-4b4d-98ab-d66fba5bf8d1 button.colab-df-convert');\n",
              "        buttonEl.style.display =\n",
              "          google.colab.kernel.accessAllowed ? 'block' : 'none';\n",
              "\n",
              "        async function convertToInteractive(key) {\n",
              "          const element = document.querySelector('#df-f4f82ab3-8b9d-4b4d-98ab-d66fba5bf8d1');\n",
              "          const dataTable =\n",
              "            await google.colab.kernel.invokeFunction('convertToInteractive',\n",
              "                                                     [key], {});\n",
              "          if (!dataTable) return;\n",
              "\n",
              "          const docLinkHtml = 'Like what you see? Visit the ' +\n",
              "            '<a target=\"_blank\" href=https://colab.research.google.com/notebooks/data_table.ipynb>data table notebook</a>'\n",
              "            + ' to learn more about interactive tables.';\n",
              "          element.innerHTML = '';\n",
              "          dataTable['output_type'] = 'display_data';\n",
              "          await google.colab.output.renderOutput(dataTable, element);\n",
              "          const docLink = document.createElement('div');\n",
              "          docLink.innerHTML = docLinkHtml;\n",
              "          element.appendChild(docLink);\n",
              "        }\n",
              "      </script>\n",
              "    </div>\n",
              "  </div>\n",
              "  "
            ]
          },
          "metadata": {},
          "execution_count": 125
        }
      ]
    },
    {
      "cell_type": "code",
      "source": [
        "all_data.columns"
      ],
      "metadata": {
        "colab": {
          "base_uri": "https://localhost:8080/"
        },
        "id": "Ais-CEoKWK_R",
        "outputId": "064e9448-b3a2-4136-cff7-bc9038c70e31"
      },
      "execution_count": 126,
      "outputs": [
        {
          "output_type": "execute_result",
          "data": {
            "text/plain": [
              "Index(['open', 'high', 'low', 'close', 'Adj Close', 'volume', 'symbol',\n",
              "       'return', 'SMA_5', 'SMA_15', 'SMA_ratio', 'SMA5_Volume', 'SMA15_Volume',\n",
              "       'SMA_Volume_Ratio', 'Lowest_5D', 'High_5D', 'Lowest_15D', 'High_15D',\n",
              "       'Stochastic_5', 'Stochastic_15', 'Stochastic_%D_5', 'Stochastic_%D_15',\n",
              "       'Stochastic_Ratio', 'Diff', 'Up', 'Down', 'avg_5up', 'avg_5down',\n",
              "       'avg_15up', 'avg_15down', 'RS_5', 'RS_15', 'RSI_5', 'RSI_15',\n",
              "       'RSI_ratio', '5Ewm', '15Ewm', 'MACD'],\n",
              "      dtype='object')"
            ]
          },
          "metadata": {},
          "execution_count": 126
        }
      ]
    },
    {
      "cell_type": "code",
      "source": [
        "Dataset_columns = ['SMA_ratio',\n",
        "                   #'ATR_5','ATR_15','ATR_Ratio',\n",
        "                   #'ADX_5','ADX_15',\n",
        "                   'SMA_Volume_Ratio',\n",
        "                   #'Stochastic_5',\n",
        "                   'Stochastic_15',\n",
        "                   'Stochastic_Ratio',\n",
        "                   #'RSI_5',\n",
        "                   'RSI_15',\n",
        "                   'RSI_ratio',\n",
        "                   'MACD',\n",
        "                   'close', 'return']"
      ],
      "metadata": {
        "id": "zicxBSiGWDXx"
      },
      "execution_count": 127,
      "outputs": []
    },
    {
      "cell_type": "code",
      "source": [
        "all_data = all_data[Dataset_columns]"
      ],
      "metadata": {
        "id": "CRDQu_mfWD_k"
      },
      "execution_count": 128,
      "outputs": []
    },
    {
      "cell_type": "code",
      "source": [
        "all_data = all_data.rename(columns={\"return\": \"price_pct_variation\"})\n",
        "all_data.to_csv('ubisoft_dataset_1h.csv')"
      ],
      "metadata": {
        "id": "uitZAYDQyCKN"
      },
      "execution_count": 129,
      "outputs": []
    },
    {
      "cell_type": "code",
      "source": [
        ""
      ],
      "metadata": {
        "id": "HsNWZZnQejQp"
      },
      "execution_count": 131,
      "outputs": []
    }
  ]
}